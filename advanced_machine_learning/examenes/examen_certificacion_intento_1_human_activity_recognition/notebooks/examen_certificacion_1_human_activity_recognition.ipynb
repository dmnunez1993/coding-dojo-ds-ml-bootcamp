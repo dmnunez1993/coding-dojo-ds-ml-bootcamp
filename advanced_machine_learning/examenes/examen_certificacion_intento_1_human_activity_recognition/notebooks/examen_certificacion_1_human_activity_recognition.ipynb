{
 "cells": [
  {
   "cell_type": "markdown",
   "metadata": {},
   "source": [
    "# Examen de cinturón AML – Opción C\n",
    "\n",
    "## Descripción del examen:\n",
    "\n",
    "En este examen, trabajarás con un dataset de mayor complejidad, aplicando un análisis no supervisado utilizando K-means o PCA para identificar patrones ocultos y luego utilizando un modelo Perceptrón Multicapa (MLP) para realizar predicciones. El examen se centrará en extraer características clave de los datos y aplicar técnicas avanzadas de modelado para realizar predicciones precisas.\n",
    "\n",
    "## Dataset:\n",
    "\n",
    "El dataset utilizado es el «Human Activity Recognition with Smartphones Dataset», que contiene datos recogidos de acelerómetros en smartphones mientras los usuarios realizan actividades cotidianas. El objetivo es clasificar el tipo de actividad física basándose en datos sensoriales de múltiples ejes.\n",
    "\n",
    "Enlace al dataset: https://www.kaggle.com/uciml/human-activity-recognition-with-smartphones\n",
    "\n",
    "## Instrucciones\n",
    "\n",
    "### 1. Exploración y preprocesamiento de datos:\n",
    "\n",
    "* Carga y explora el dataset, identificando las variables relacionadas con los datos sensoriales. Este conjunto de datos incluye lecturas de aceleración en los ejes X, Y y Z mientras los sujetos realizan actividades como caminar, correr, y subir escaleras.\n",
    "* Asegúrate de manejar cualquier valor nulo, normalizando las lecturas sensoriales para mejorar el rendimiento del análisis y el modelado posterior.\n",
    "\n",
    "### 2. Análisis no supervisado:\n",
    "\n",
    "* Selecciona un enfoque de análisis no supervisado: K-means o PCA.\n",
    "    * K-means: Utiliza K-means para agrupar las actividades de los usuarios en clusters y analiza si los grupos corresponden a los tipos de actividad física.\n",
    "    * PCA: Si eliges PCA, realiza una reducción de dimensionalidad para identificar los componentes principales que explican la mayor variabilidad en los datos sensoriales. Visualiza los datos en el espacio reducido de los componentes principales.\n",
    "\n",
    "### 3. Modelado con MLP:\n",
    "\n",
    "* Desarrolla un modelo MLP para predecir el tipo de actividad física realizada por los usuarios basándose en los datos sensoriales.\n",
    "* Divide el dataset en conjuntos de entrenamiento y prueba, asegurándote de que las distintas actividades estén bien representadas en ambos conjuntos.\n",
    "* Configura la arquitectura del MLP, utilizando al menos dos capas ocultas, y ajusta hiperparámetros como el tamaño del batch, el número de épocas y la tasa de aprendizaje.\n",
    "\n",
    "### 4. Evaluación del modelo:\n",
    "\n",
    "* Evalúa el rendimiento del MLP utilizando métricas como la precisión, el recall, el F1-score y la matriz de confusión. Discute si el modelo es capaz de predecir correctamente las distintas actividades físicas.\n",
    "* Visualiza las curvas de aprendizaje, mostrando cómo evoluciona la pérdida y la precisión a lo largo del entrenamiento.\n",
    "\n",
    "### 5. Discusión y análisis:\n",
    "\n",
    "* Reflexiona sobre los resultados del análisis no supervisado. ¿El análisis de clusters o PCA proporcionó insights útiles sobre las actividades? ¿Qué características son más importantes para clasificar las actividades físicas?\n",
    "* Discute el rendimiento del MLP y cómo podría mejorarse. ¿Es adecuado este enfoque para predecir actividades basadas en datos sensoriales?\n",
    "\n",
    "### 6. Entrega final:\n",
    "\n",
    "* Entrega un informe detallado que incluya todas las etapas del examen: preprocesamiento de datos, análisis no supervisado, modelado MLP, evaluación y conclusiones. Apoya tu informe con visualizaciones que demuestren los resultados obtenidos.\n"
   ]
  }
 ],
 "metadata": {
  "language_info": {
   "name": "python"
  }
 },
 "nbformat": 4,
 "nbformat_minor": 2
}
