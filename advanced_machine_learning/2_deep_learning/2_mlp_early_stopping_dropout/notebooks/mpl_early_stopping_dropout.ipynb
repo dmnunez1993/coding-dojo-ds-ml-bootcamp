{
 "cells": [
  {
   "cell_type": "markdown",
   "metadata": {},
   "source": [
    "# MLP con Early Stopping y Dropout (Core)\n",
    "\n",
    "## Descripción:\n",
    "\n",
    "En esta actividad, implementarás una red MLP más avanzada, utilizando técnicas como dropout y early stopping para evitar el sobreajuste. El dataset seleccionado es el «Heart Disease UCI» de Kaggle, donde se intentará predecir si un paciente tiene una enfermedad cardíaca o no basándose en varias características.\n",
    "\n",
    "Enlace al dataset: https://www.kaggle.com/datasets/ketangangal/heart-disease-dataset-uci\n",
    "\n",
    "## Objetivo\n",
    "\n",
    "El objetivo de esta actividad es entrenar una red MLP utilizando dropout para regularizar la red y early stopping para detener el entrenamiento cuando el rendimiento en el conjunto de validación deje de mejorar. Al final, se comparará el rendimiento de este modelo con el de un MLP básico.\n",
    "\n",
    "## Instrucciones\n",
    "\n",
    "### 1. Carga de datos:\n",
    "\n",
    "* Descarga el dataset «Heart Disease UCI» de Kaggle. Explora las características que están relacionadas con la edad, el sexo, la presión arterial y otras variables clínicas.\n",
    "* Verifica si hay valores nulos en el dataset y realiza el preprocesamiento necesario, como la imputación de valores faltantes y la normalización de las variables numéricas.\n",
    "\n",
    "### 2. Exploración y preprocesamiento de datos:\n",
    "\n",
    "* Realiza una división del dataset en conjunto de entrenamiento y prueba. Asegúrate de que el dataset esté bien balanceado, verificando la distribución de la variable objetivo (enfermedad cardíaca sí/no).\n",
    "\n",
    "### 3. Implementación de la MLP con Dropout:\n",
    "\n",
    "* Implementa una red MLP con dos capas ocultas utilizando Keras o cualquier biblioteca de deep learning.\n",
    "* Agrega capas de dropout después de cada capa oculta para reducir el riesgo de sobreajuste. Utiliza una tasa de dropout del 20-30%.\n",
    "* Implementa el early stopping para detener el entrenamiento cuando la precisión en el conjunto de validación deje de mejorar después de varias épocas (por ejemplo, paciencia de 5 épocas).\n",
    "\n",
    "### 4. Entrenamiento del modelo:\n",
    "\n",
    "* Entrena el modelo con early stopping activado, utilizando el optimizador Adam y la función de pérdida binaria (binary_crossentropy). Entrena durante un máximo de 100 épocas.\n",
    "* Visualiza las curvas de aprendizaje para observar cómo evoluciona la pérdida y la precisión a lo largo del entrenamiento, especialmente con early stopping activado.\n",
    "\n",
    "### 5. Evaluación del modelo:\n",
    "\n",
    "* Evalúa el modelo en el conjunto de prueba y compara las métricas de rendimiento, como precisión, recall, F1-score y matriz de confusión.\n",
    "* Discute cómo el uso de dropout y early stopping ha afectado el rendimiento en comparación con un MLP básico sin estas técnicas."
   ]
  },
  {
   "cell_type": "markdown",
   "metadata": {},
   "source": [
    "# Resolución"
   ]
  },
  {
   "cell_type": "markdown",
   "metadata": {},
   "source": [
    "## 1. Carga de datos"
   ]
  },
  {
   "cell_type": "code",
   "execution_count": 1,
   "metadata": {},
   "outputs": [
    {
     "name": "stdout",
     "output_type": "stream",
     "text": [
      "Skipping, found downloaded files in \"../data/heart-disease-dataset-uci\" (use force=True to force download)\n"
     ]
    }
   ],
   "source": [
    "from utils.git_utils import get_repo_file_path\n",
    "from utils.kaggle_utils import descargar_dataset_kaggle\n",
    "\n",
    "\n",
    "# Asegúrarse de que el archivo kaggle.json con las credenciales de kaggle\n",
    "# estén en el directorio base del repositorio.\n",
    "kaggle_credentials_path = get_repo_file_path(\"kaggle.json\")\n",
    "\n",
    "descargar_dataset_kaggle(\n",
    "    \"https://www.kaggle.com/datasets/ketangangal/heart-disease-dataset-uci\",\n",
    "    kaggle_credentials_path,\n",
    "    \"../data/\",\n",
    ")"
   ]
  },
  {
   "cell_type": "code",
   "execution_count": 2,
   "metadata": {},
   "outputs": [
    {
     "name": "stdout",
     "output_type": "stream",
     "text": [
      "<class 'pandas.core.frame.DataFrame'>\n",
      "RangeIndex: 1025 entries, 0 to 1024\n",
      "Data columns (total 14 columns):\n",
      " #   Column                         Non-Null Count  Dtype  \n",
      "---  ------                         --------------  -----  \n",
      " 0   age                            1025 non-null   int64  \n",
      " 1   sex                            1025 non-null   object \n",
      " 2   chest_pain_type                1025 non-null   object \n",
      " 3   resting_blood_pressure         1025 non-null   int64  \n",
      " 4   cholestoral                    1025 non-null   int64  \n",
      " 5   fasting_blood_sugar            1025 non-null   object \n",
      " 6   rest_ecg                       1025 non-null   object \n",
      " 7   Max_heart_rate                 1025 non-null   int64  \n",
      " 8   exercise_induced_angina        1025 non-null   object \n",
      " 9   oldpeak                        1025 non-null   float64\n",
      " 10  slope                          1025 non-null   object \n",
      " 11  vessels_colored_by_flourosopy  1025 non-null   object \n",
      " 12  thalassemia                    1025 non-null   object \n",
      " 13  target                         1025 non-null   int64  \n",
      "dtypes: float64(1), int64(5), object(8)\n",
      "memory usage: 112.2+ KB\n"
     ]
    }
   ],
   "source": [
    "import pandas as pd\n",
    "\n",
    "\n",
    "camino_ds = \"../data/heart-disease-dataset-uci/HeartDiseaseTrain-Test.csv\"\n",
    "df = pd.read_csv(camino_ds)\n",
    "\n",
    "df.info()"
   ]
  },
  {
   "cell_type": "markdown",
   "metadata": {},
   "source": [
    "### Verifica si hay valores nulos en el dataset y realiza el preprocesamiento necesario, como la imputación de valores faltantes y la normalización de las variables numéricas."
   ]
  },
  {
   "cell_type": "code",
   "execution_count": 3,
   "metadata": {},
   "outputs": [
    {
     "data": {
      "text/html": [
       "<div>\n",
       "<style scoped>\n",
       "    .dataframe tbody tr th:only-of-type {\n",
       "        vertical-align: middle;\n",
       "    }\n",
       "\n",
       "    .dataframe tbody tr th {\n",
       "        vertical-align: top;\n",
       "    }\n",
       "\n",
       "    .dataframe thead th {\n",
       "        text-align: right;\n",
       "    }\n",
       "</style>\n",
       "<table border=\"1\" class=\"dataframe\">\n",
       "  <thead>\n",
       "    <tr style=\"text-align: right;\">\n",
       "      <th></th>\n",
       "      <th>datos sin NAs en q</th>\n",
       "      <th>Na en q</th>\n",
       "      <th>Na en %</th>\n",
       "    </tr>\n",
       "  </thead>\n",
       "  <tbody>\n",
       "    <tr>\n",
       "      <th>age</th>\n",
       "      <td>1025</td>\n",
       "      <td>0</td>\n",
       "      <td>0.0</td>\n",
       "    </tr>\n",
       "    <tr>\n",
       "      <th>sex</th>\n",
       "      <td>1025</td>\n",
       "      <td>0</td>\n",
       "      <td>0.0</td>\n",
       "    </tr>\n",
       "    <tr>\n",
       "      <th>chest_pain_type</th>\n",
       "      <td>1025</td>\n",
       "      <td>0</td>\n",
       "      <td>0.0</td>\n",
       "    </tr>\n",
       "    <tr>\n",
       "      <th>resting_blood_pressure</th>\n",
       "      <td>1025</td>\n",
       "      <td>0</td>\n",
       "      <td>0.0</td>\n",
       "    </tr>\n",
       "    <tr>\n",
       "      <th>cholestoral</th>\n",
       "      <td>1025</td>\n",
       "      <td>0</td>\n",
       "      <td>0.0</td>\n",
       "    </tr>\n",
       "    <tr>\n",
       "      <th>fasting_blood_sugar</th>\n",
       "      <td>1025</td>\n",
       "      <td>0</td>\n",
       "      <td>0.0</td>\n",
       "    </tr>\n",
       "    <tr>\n",
       "      <th>rest_ecg</th>\n",
       "      <td>1025</td>\n",
       "      <td>0</td>\n",
       "      <td>0.0</td>\n",
       "    </tr>\n",
       "    <tr>\n",
       "      <th>Max_heart_rate</th>\n",
       "      <td>1025</td>\n",
       "      <td>0</td>\n",
       "      <td>0.0</td>\n",
       "    </tr>\n",
       "    <tr>\n",
       "      <th>exercise_induced_angina</th>\n",
       "      <td>1025</td>\n",
       "      <td>0</td>\n",
       "      <td>0.0</td>\n",
       "    </tr>\n",
       "    <tr>\n",
       "      <th>oldpeak</th>\n",
       "      <td>1025</td>\n",
       "      <td>0</td>\n",
       "      <td>0.0</td>\n",
       "    </tr>\n",
       "    <tr>\n",
       "      <th>slope</th>\n",
       "      <td>1025</td>\n",
       "      <td>0</td>\n",
       "      <td>0.0</td>\n",
       "    </tr>\n",
       "    <tr>\n",
       "      <th>vessels_colored_by_flourosopy</th>\n",
       "      <td>1025</td>\n",
       "      <td>0</td>\n",
       "      <td>0.0</td>\n",
       "    </tr>\n",
       "    <tr>\n",
       "      <th>thalassemia</th>\n",
       "      <td>1025</td>\n",
       "      <td>0</td>\n",
       "      <td>0.0</td>\n",
       "    </tr>\n",
       "    <tr>\n",
       "      <th>target</th>\n",
       "      <td>1025</td>\n",
       "      <td>0</td>\n",
       "      <td>0.0</td>\n",
       "    </tr>\n",
       "  </tbody>\n",
       "</table>\n",
       "</div>"
      ],
      "text/plain": [
       "                               datos sin NAs en q  Na en q  Na en %\n",
       "age                                          1025        0      0.0\n",
       "sex                                          1025        0      0.0\n",
       "chest_pain_type                              1025        0      0.0\n",
       "resting_blood_pressure                       1025        0      0.0\n",
       "cholestoral                                  1025        0      0.0\n",
       "fasting_blood_sugar                          1025        0      0.0\n",
       "rest_ecg                                     1025        0      0.0\n",
       "Max_heart_rate                               1025        0      0.0\n",
       "exercise_induced_angina                      1025        0      0.0\n",
       "oldpeak                                      1025        0      0.0\n",
       "slope                                        1025        0      0.0\n",
       "vessels_colored_by_flourosopy                1025        0      0.0\n",
       "thalassemia                                  1025        0      0.0\n",
       "target                                       1025        0      0.0"
      ]
     },
     "execution_count": 3,
     "metadata": {},
     "output_type": "execute_result"
    }
   ],
   "source": [
    "from utils.eda_utils import obtener_estadisticas_datos_nulos\n",
    "\n",
    "\n",
    "obtener_estadisticas_datos_nulos(df)"
   ]
  },
  {
   "cell_type": "markdown",
   "metadata": {},
   "source": [
    "No se visualizan valores nulos en el dataset."
   ]
  },
  {
   "cell_type": "code",
   "execution_count": 4,
   "metadata": {},
   "outputs": [
    {
     "name": "stdout",
     "output_type": "stream",
     "text": [
      "Valores de columna 'sex': ['Male' 'Female']\n",
      "Valores de columna 'fasting_blood_sugar': ['Lower than 120 mg/ml' 'Greater than 120 mg/ml']\n",
      "Valores de columna 'exercise_induced_angina': ['No' 'Yes']\n",
      "Valores de columna 'target': [0 1]\n",
      "La columna 'target' es booleana. Será convertida.\n",
      "Columnas convertidas a booleanas: ['target']\n"
     ]
    }
   ],
   "source": [
    "columnas = df.columns.tolist()\n",
    "\n",
    "columnas_convertidas_booleanas = []\n",
    "\n",
    "valores_columnas_booleanas_potenciales = [\n",
    "    [0, 1],\n",
    "    [0.0, 1.0],\n",
    "    [\"false\", \"true\"],\n",
    "    [\"no\", \"yes\"],\n",
    "    [\"no\", \"si\"],\n",
    "    [\"N\", \"Y\"],\n",
    "]\n",
    "\n",
    "\n",
    "def _convertir_valor_a_booleano(x):\n",
    "    if x in [0, 0.0, \"false\", \"no\", \"no\", \"N\"]:\n",
    "        return False\n",
    "\n",
    "    if x in [1, 1.0, \"true\", \"yes\", \"si\", \"Y\"]:\n",
    "        return True\n",
    "\n",
    "    return x\n",
    "\n",
    "\n",
    "for columna in columnas:\n",
    "    valores_unicos = df[columna].dropna().unique()\n",
    "\n",
    "    columna_booleana_encontrada = False\n",
    "\n",
    "    if len(valores_unicos) == 2:\n",
    "        print(f\"Valores de columna '{columna}': {str(valores_unicos)}\")\n",
    "\n",
    "        for posibilidad_valores_booleanos in valores_columnas_booleanas_potenciales:\n",
    "            if set(valores_unicos) == set(posibilidad_valores_booleanos):\n",
    "                print(f\"La columna '{columna}' es booleana. Será convertida.\")\n",
    "                df[columna] = df[columna].apply(_convertir_valor_a_booleano)\n",
    "                df[columna] = df[columna].astype(\"bool\")\n",
    "\n",
    "                columna_booleana_encontrada = True\n",
    "                break\n",
    "\n",
    "    if columna_booleana_encontrada:\n",
    "        columnas_convertidas_booleanas.append(columna)\n",
    "\n",
    "\n",
    "print(f\"Columnas convertidas a booleanas: {str(columnas_convertidas_booleanas)}\")"
   ]
  },
  {
   "cell_type": "code",
   "execution_count": 5,
   "metadata": {},
   "outputs": [
    {
     "name": "stdout",
     "output_type": "stream",
     "text": [
      "Valores únicos para columna 'sex': ['Male', 'Female']\n",
      "Valores únicos para columna 'chest_pain_type': ['Typical angina', 'Atypical angina', 'Non-anginal pain', 'Asymptomatic']\n",
      "Valores únicos para columna 'fasting_blood_sugar': ['Lower than 120 mg/ml', 'Greater than 120 mg/ml']\n",
      "Valores únicos para columna 'rest_ecg': ['ST-T wave abnormality', 'Normal', 'Left ventricular hypertrophy']\n",
      "Valores únicos para columna 'exercise_induced_angina': ['No', 'Yes']\n",
      "Valores únicos para columna 'slope': ['Downsloping', 'Upsloping', 'Flat']\n",
      "Valores únicos para columna 'vessels_colored_by_flourosopy': ['Two', 'Zero', 'One', 'Three', 'Four']\n",
      "Valores únicos para columna 'thalassemia': ['Reversable Defect', 'Fixed Defect', 'Normal', 'No']\n"
     ]
    }
   ],
   "source": [
    "columnas_objeto_cadena = df.select_dtypes(include=[\"object\", \"string\"]).columns.tolist()\n",
    "\n",
    "\n",
    "for columna in columnas_objeto_cadena:\n",
    "    valores_unicos = df[columna].dropna().unique().tolist()\n",
    "    print(f\"Valores únicos para columna '{columna}': {str(valores_unicos)}\")"
   ]
  },
  {
   "cell_type": "code",
   "execution_count": 6,
   "metadata": {},
   "outputs": [],
   "source": [
    "from utils.eda_utils import obtener_columnas_categoricas_df, limpiar_cadena\n",
    "\n",
    "columnas_categoricas = obtener_columnas_categoricas_df(df)\n",
    "\n",
    "\n",
    "for columna in columnas_categoricas:\n",
    "    df[columna] = df[columna].apply(limpiar_cadena)"
   ]
  },
  {
   "cell_type": "code",
   "execution_count": 7,
   "metadata": {},
   "outputs": [
    {
     "name": "stdout",
     "output_type": "stream",
     "text": [
      "Cant. únicos para columna 'sex': 2\n",
      "Valores únicos columna 'sex': ['male', 'female']\n",
      "Se procede a convertir la columna 'sex' a categórica\n",
      "Cant. únicos para columna 'chest_pain_type': 4\n",
      "Valores únicos columna 'chest_pain_type': ['typical angina', 'atypical angina', 'non-anginal pain', 'asymptomatic']\n",
      "Se procede a convertir la columna 'chest_pain_type' a categórica\n",
      "Cant. únicos para columna 'fasting_blood_sugar': 2\n",
      "Valores únicos columna 'fasting_blood_sugar': ['lower than 120 mg/ml', 'greater than 120 mg/ml']\n",
      "Se procede a convertir la columna 'fasting_blood_sugar' a categórica\n",
      "Cant. únicos para columna 'rest_ecg': 3\n",
      "Valores únicos columna 'rest_ecg': ['st-t wave abnormality', 'normal', 'left ventricular hypertrophy']\n",
      "Se procede a convertir la columna 'rest_ecg' a categórica\n",
      "Cant. únicos para columna 'exercise_induced_angina': 2\n",
      "Valores únicos columna 'exercise_induced_angina': ['no', 'yes']\n",
      "Se procede a convertir la columna 'exercise_induced_angina' a categórica\n",
      "Cant. únicos para columna 'slope': 3\n",
      "Valores únicos columna 'slope': ['downsloping', 'upsloping', 'flat']\n",
      "Se procede a convertir la columna 'slope' a categórica\n",
      "Cant. únicos para columna 'vessels_colored_by_flourosopy': 5\n",
      "Valores únicos columna 'vessels_colored_by_flourosopy': ['two', 'zero', 'one', 'three', 'four']\n",
      "Se procede a convertir la columna 'vessels_colored_by_flourosopy' a categórica\n",
      "Cant. únicos para columna 'thalassemia': 4\n",
      "Valores únicos columna 'thalassemia': ['reversable defect', 'fixed defect', 'normal', 'no']\n",
      "Se procede a convertir la columna 'thalassemia' a categórica\n",
      "\n",
      "\n",
      "Cant. de columnas analizadas: 8\n",
      "Cant. de columnas convertidas a category: 8\n",
      "Cant. de columnas convertidas a string: 0\n",
      "Columnas convertidas a categóricas: ['sex', 'chest_pain_type', 'fasting_blood_sugar', 'rest_ecg', 'exercise_induced_angina', 'slope', 'vessels_colored_by_flourosopy', 'thalassemia']\n",
      "Columnas convertidas a string: []\n"
     ]
    }
   ],
   "source": [
    "# Se elige el 5% como valor para empezar a considerar una columna como categórica.\n",
    "# Si se supera esta cantidad la columna se dejará como cadena.\n",
    "porcentaje_max_columnas_categoricas = 0.05\n",
    "cant_filas_df = df.shape[0]\n",
    "\n",
    "columnas_a_excluir = []\n",
    "columnas_convertidas_a_categoricas = []\n",
    "columnas_convertidas_a_string = []\n",
    "\n",
    "for columna in columnas_objeto_cadena:\n",
    "    valores_unicos = df[columna].dropna().unique().tolist()\n",
    "    print(f\"Cant. únicos para columna '{columna}': {len(valores_unicos)}\")\n",
    "    if len(valores_unicos) <= (porcentaje_max_columnas_categoricas * cant_filas_df):\n",
    "        \n",
    "        print(f\"Valores únicos columna '{columna}': {str(valores_unicos)}\")\n",
    "        print(f\"Se procede a convertir la columna '{columna}' a categórica\")\n",
    "        df[columna] = df[columna].astype(\"category\")\n",
    "        columnas_convertidas_a_categoricas.append(columna)\n",
    "    else:\n",
    "        print(f\"No se convierte la columna '{columna}' a categórica, se opta por dejarla como string\")\n",
    "        df[columna] = df[columna].astype(\"string\")\n",
    "        columnas_convertidas_a_string.append(columna)\n",
    "\n",
    "    del valores_unicos\n",
    "\n",
    "print(\"\\n\")\n",
    "print(f\"Cant. de columnas analizadas: {len(columnas_objeto_cadena)}\")\n",
    "print(f\"Cant. de columnas convertidas a category: {len(columnas_convertidas_a_categoricas)}\")\n",
    "print(f\"Cant. de columnas convertidas a string: {len(columnas_convertidas_a_string)}\")\n",
    "print(f\"Columnas convertidas a categóricas: {str(columnas_convertidas_a_categoricas)}\")\n",
    "print(f\"Columnas convertidas a string: {str(columnas_convertidas_a_string)}\")"
   ]
  },
  {
   "cell_type": "code",
   "execution_count": 8,
   "metadata": {},
   "outputs": [
    {
     "name": "stdout",
     "output_type": "stream",
     "text": [
      "Cant. de Registros Duplicados general: 723\n"
     ]
    }
   ],
   "source": [
    "duplicados = df.duplicated()\n",
    "\n",
    "cant_registros_duplicados = duplicados.sum()\n",
    "\n",
    "print(f\"Cant. de Registros Duplicados general: {cant_registros_duplicados}\")"
   ]
  },
  {
   "cell_type": "code",
   "execution_count": 9,
   "metadata": {},
   "outputs": [],
   "source": [
    "df.drop_duplicates(inplace=True)"
   ]
  },
  {
   "cell_type": "code",
   "execution_count": 10,
   "metadata": {},
   "outputs": [
    {
     "name": "stdout",
     "output_type": "stream",
     "text": [
      "Cant. de Registros Duplicados general: 0\n"
     ]
    }
   ],
   "source": [
    "duplicados = df.duplicated()\n",
    "\n",
    "cant_registros_duplicados = duplicados.sum()\n",
    "\n",
    "print(f\"Cant. de Registros Duplicados general: {cant_registros_duplicados}\")"
   ]
  },
  {
   "cell_type": "code",
   "execution_count": 11,
   "metadata": {},
   "outputs": [
    {
     "name": "stdout",
     "output_type": "stream",
     "text": [
      "<class 'pandas.core.frame.DataFrame'>\n",
      "Index: 302 entries, 0 to 878\n",
      "Data columns (total 14 columns):\n",
      " #   Column                         Non-Null Count  Dtype   \n",
      "---  ------                         --------------  -----   \n",
      " 0   age                            302 non-null    int64   \n",
      " 1   sex                            302 non-null    category\n",
      " 2   chest_pain_type                302 non-null    category\n",
      " 3   resting_blood_pressure         302 non-null    int64   \n",
      " 4   cholestoral                    302 non-null    int64   \n",
      " 5   fasting_blood_sugar            302 non-null    category\n",
      " 6   rest_ecg                       302 non-null    category\n",
      " 7   Max_heart_rate                 302 non-null    int64   \n",
      " 8   exercise_induced_angina        302 non-null    category\n",
      " 9   oldpeak                        302 non-null    float64 \n",
      " 10  slope                          302 non-null    category\n",
      " 11  vessels_colored_by_flourosopy  302 non-null    category\n",
      " 12  thalassemia                    302 non-null    category\n",
      " 13  target                         302 non-null    bool    \n",
      "dtypes: bool(1), category(8), float64(1), int64(4)\n",
      "memory usage: 18.0 KB\n"
     ]
    }
   ],
   "source": [
    "df.info()"
   ]
  },
  {
   "cell_type": "markdown",
   "metadata": {},
   "source": [
    "## 2. Exploración y preprocesamiento de datos:"
   ]
  },
  {
   "cell_type": "code",
   "execution_count": 12,
   "metadata": {},
   "outputs": [
    {
     "data": {
      "image/png": "[encoded data removed]",
      "text/plain": [
       "<Figure size 1000x500 with 1 Axes>"
      ]
     },
     "metadata": {},
     "output_type": "display_data"
    }
   ],
   "source": [
    "from utils.eda_utils import graficar_barras_conteo\n",
    "\n",
    "graficar_barras_conteo(df, [\"target\"], nro_columnas=1, figsize=(10, 5))"
   ]
  },
  {
   "cell_type": "markdown",
   "metadata": {},
   "source": [
    "No se visualiza desbalanceo en el dataset."
   ]
  },
  {
   "cell_type": "markdown",
   "metadata": {},
   "source": [
    "Importamos las librerías necesarias."
   ]
  },
  {
   "cell_type": "code",
   "execution_count": 13,
   "metadata": {},
   "outputs": [
    {
     "name": "stderr",
     "output_type": "stream",
     "text": [
      "2024-12-08 03:51:18.967446: E external/local_xla/xla/stream_executor/cuda/cuda_fft.cc:477] Unable to register cuFFT factory: Attempting to register factory for plugin cuFFT when one has already been registered\n",
      "WARNING: All log messages before absl::InitializeLog() is called are written to STDERR\n",
      "E0000 00:00:1733629878.988505   85838 cuda_dnn.cc:8310] Unable to register cuDNN factory: Attempting to register factory for plugin cuDNN when one has already been registered\n",
      "E0000 00:00:1733629878.994994   85838 cuda_blas.cc:1418] Unable to register cuBLAS factory: Attempting to register factory for plugin cuBLAS when one has already been registered\n"
     ]
    }
   ],
   "source": [
    "# Visualización\n",
    "import matplotlib.pyplot as plt\n",
    "from utils.classification_utils import graficar_matriz_confusion\n",
    "\n",
    "# Conversión\n",
    "from utils.eda_utils import obtener_columnas_numericas_df\n",
    "\n",
    "# Modelado\n",
    "import numpy as np\n",
    "from sklearn.compose import ColumnTransformer\n",
    "from sklearn.model_selection import train_test_split\n",
    "from sklearn.preprocessing import OneHotEncoder, OrdinalEncoder, StandardScaler\n",
    "\n",
    "from tensorflow.keras.callbacks import EarlyStopping\n",
    "from tensorflow.keras.models import Sequential\n",
    "from tensorflow.keras.layers import Dense, Dropout\n",
    "from tensorflow.keras.optimizers import Adam\n",
    "\n",
    "# Métricas\n",
    "# Evaluación\n",
    "from sklearn.metrics import (\n",
    "    classification_report,\n",
    "    confusion_matrix,\n",
    "    accuracy_score,\n",
    "    precision_score,\n",
    "    recall_score,\n",
    "    f1_score,\n",
    "    roc_auc_score,\n",
    ")"
   ]
  },
  {
   "cell_type": "code",
   "execution_count": 14,
   "metadata": {},
   "outputs": [],
   "source": [
    "columnas_prediccion = df.columns.tolist()\n",
    "columnas_prediccion.remove(\"target\")"
   ]
  },
  {
   "cell_type": "code",
   "execution_count": 15,
   "metadata": {},
   "outputs": [],
   "source": [
    "X = df[columnas_prediccion]\n",
    "y = df[\"target\"].apply(lambda x: 1.0 if x else 0.0)"
   ]
  },
  {
   "cell_type": "code",
   "execution_count": 16,
   "metadata": {},
   "outputs": [],
   "source": [
    "X_train, X_test, y_train, y_test = train_test_split(\n",
    "    X,\n",
    "    y,\n",
    "    test_size=0.2,\n",
    "    random_state=42,\n",
    ")"
   ]
  },
  {
   "cell_type": "code",
   "execution_count": 17,
   "metadata": {},
   "outputs": [
    {
     "name": "stdout",
     "output_type": "stream",
     "text": [
      "Valores únicos para columna 'sex': ['male', 'female']\n",
      "Valores únicos para columna 'chest_pain_type': ['typical angina', 'atypical angina', 'non-anginal pain', 'asymptomatic']\n",
      "Valores únicos para columna 'fasting_blood_sugar': ['lower than 120 mg/ml', 'greater than 120 mg/ml']\n",
      "Valores únicos para columna 'rest_ecg': ['st-t wave abnormality', 'normal', 'left ventricular hypertrophy']\n",
      "Valores únicos para columna 'exercise_induced_angina': ['no', 'yes']\n",
      "Valores únicos para columna 'slope': ['downsloping', 'upsloping', 'flat']\n",
      "Valores únicos para columna 'vessels_colored_by_flourosopy': ['two', 'zero', 'one', 'three', 'four']\n",
      "Valores únicos para columna 'thalassemia': ['reversable defect', 'fixed defect', 'normal', 'no']\n"
     ]
    }
   ],
   "source": [
    "columnas_categoricas = obtener_columnas_categoricas_df(df)\n",
    "\n",
    "\n",
    "for columna in columnas_categoricas:\n",
    "    valores_unicos = df[columna].unique().tolist()\n",
    "    print(f\"Valores únicos para columna '{columna}': {valores_unicos}\")"
   ]
  },
  {
   "cell_type": "code",
   "execution_count": 18,
   "metadata": {},
   "outputs": [],
   "source": [
    "columnas_ordinales = [\n",
    "    \"vessels_colored_by_flourosopy\",\n",
    "]"
   ]
  },
  {
   "cell_type": "code",
   "execution_count": 19,
   "metadata": {},
   "outputs": [],
   "source": [
    "mapeo_columnas_ordinales = [\n",
    "    {\n",
    "        \"col\": \"vessels_colored_by_flourosopy\",\n",
    "        \"mapping\": [\n",
    "            \"zero\",\n",
    "            \"one\",\n",
    "            \"two\",\n",
    "            \"three\",\n",
    "            \"four\",\n",
    "        ]\n",
    "    },\n",
    "]"
   ]
  },
  {
   "cell_type": "code",
   "execution_count": 20,
   "metadata": {},
   "outputs": [],
   "source": [
    "categories_ordinal_encoder = []\n",
    "columnas_ordinal_encoder = []\n",
    "\n",
    "# Preparamos los parámetros para el Ordinal Encoder.\n",
    "for mapeo_columna in mapeo_columnas_ordinales:\n",
    "    nombre_columna = mapeo_columna[\"col\"]\n",
    "\n",
    "    if nombre_columna in columnas_prediccion:\n",
    "        mapeo_columnas = mapeo_columna[\"mapping\"]\n",
    "\n",
    "        categories_ordinal_encoder.append(mapeo_columnas)\n",
    "        columnas_ordinal_encoder.append(nombre_columna)\n",
    "\n",
    "columnas_categoricas = obtener_columnas_categoricas_df(df)\n",
    "\n",
    "columnas_categoricas_a_convertir_onehot = []\n",
    "\n",
    "# Sacamos solamente las columnas que se requiera convertir a one hot,\n",
    "# excluyendo las columnas ordinales.\n",
    "for columna in columnas_categoricas:\n",
    "    if columna not in columnas_ordinal_encoder and columna in columnas_prediccion:\n",
    "        columnas_categoricas_a_convertir_onehot.append(columna)\n",
    "\n",
    "columnas_numericas = obtener_columnas_numericas_df(df)\n",
    "\n",
    "columnas_numericas_a_escalar = []\n",
    "\n",
    "# Obtenemos las columnas que requieren escalamiento.\n",
    "for columna in columnas_numericas:\n",
    "    if columna in columnas_prediccion:\n",
    "        columnas_numericas_a_escalar.append(columna)\n",
    "\n",
    "preprocessor = ColumnTransformer(\n",
    "    transformers=[\n",
    "        (\n",
    "            \"scaler\",\n",
    "            StandardScaler(),\n",
    "            columnas_numericas_a_escalar,\n",
    "        ),\n",
    "        (\n",
    "            \"ordinal\",\n",
    "            OrdinalEncoder(categories=categories_ordinal_encoder),\n",
    "            columnas_ordinal_encoder,\n",
    "        ),\n",
    "        (\n",
    "            \"onehot\",\n",
    "            OneHotEncoder(handle_unknown='ignore', sparse_output=False),\n",
    "            columnas_categoricas_a_convertir_onehot,\n",
    "        ),\n",
    "    ],\n",
    "    remainder=\"passthrough\"\n",
    ")"
   ]
  },
  {
   "cell_type": "markdown",
   "metadata": {},
   "source": [
    "Verificamos si las columnas se transforman correctamente."
   ]
  },
  {
   "cell_type": "code",
   "execution_count": 21,
   "metadata": {},
   "outputs": [
    {
     "name": "stdout",
     "output_type": "stream",
     "text": [
      "<class 'pandas.core.frame.DataFrame'>\n",
      "RangeIndex: 302 entries, 0 to 301\n",
      "Data columns (total 26 columns):\n",
      " #   Column                                              Non-Null Count  Dtype  \n",
      "---  ------                                              --------------  -----  \n",
      " 0   scaler__age                                         302 non-null    float64\n",
      " 1   scaler__resting_blood_pressure                      302 non-null    float64\n",
      " 2   scaler__cholestoral                                 302 non-null    float64\n",
      " 3   scaler__Max_heart_rate                              302 non-null    float64\n",
      " 4   scaler__oldpeak                                     302 non-null    float64\n",
      " 5   ordinal__vessels_colored_by_flourosopy              302 non-null    float64\n",
      " 6   onehot__sex_female                                  302 non-null    float64\n",
      " 7   onehot__sex_male                                    302 non-null    float64\n",
      " 8   onehot__chest_pain_type_asymptomatic                302 non-null    float64\n",
      " 9   onehot__chest_pain_type_atypical angina             302 non-null    float64\n",
      " 10  onehot__chest_pain_type_non-anginal pain            302 non-null    float64\n",
      " 11  onehot__chest_pain_type_typical angina              302 non-null    float64\n",
      " 12  onehot__fasting_blood_sugar_greater than 120 mg/ml  302 non-null    float64\n",
      " 13  onehot__fasting_blood_sugar_lower than 120 mg/ml    302 non-null    float64\n",
      " 14  onehot__rest_ecg_left ventricular hypertrophy       302 non-null    float64\n",
      " 15  onehot__rest_ecg_normal                             302 non-null    float64\n",
      " 16  onehot__rest_ecg_st-t wave abnormality              302 non-null    float64\n",
      " 17  onehot__exercise_induced_angina_no                  302 non-null    float64\n",
      " 18  onehot__exercise_induced_angina_yes                 302 non-null    float64\n",
      " 19  onehot__slope_downsloping                           302 non-null    float64\n",
      " 20  onehot__slope_flat                                  302 non-null    float64\n",
      " 21  onehot__slope_upsloping                             302 non-null    float64\n",
      " 22  onehot__thalassemia_fixed defect                    302 non-null    float64\n",
      " 23  onehot__thalassemia_no                              302 non-null    float64\n",
      " 24  onehot__thalassemia_normal                          302 non-null    float64\n",
      " 25  onehot__thalassemia_reversable defect               302 non-null    float64\n",
      "dtypes: float64(26)\n",
      "memory usage: 61.5 KB\n"
     ]
    }
   ],
   "source": [
    "X_transf = preprocessor.fit_transform(X)\n",
    "\n",
    "df_transf = pd.DataFrame(X_transf, columns=preprocessor.get_feature_names_out())\n",
    "\n",
    "df_transf.info()"
   ]
  },
  {
   "cell_type": "code",
   "execution_count": 22,
   "metadata": {},
   "outputs": [
    {
     "data": {
      "text/html": [
       "<div>\n",
       "<style scoped>\n",
       "    .dataframe tbody tr th:only-of-type {\n",
       "        vertical-align: middle;\n",
       "    }\n",
       "\n",
       "    .dataframe tbody tr th {\n",
       "        vertical-align: top;\n",
       "    }\n",
       "\n",
       "    .dataframe thead th {\n",
       "        text-align: right;\n",
       "    }\n",
       "</style>\n",
       "<table border=\"1\" class=\"dataframe\">\n",
       "  <thead>\n",
       "    <tr style=\"text-align: right;\">\n",
       "      <th></th>\n",
       "      <th>datos sin NAs en q</th>\n",
       "      <th>Na en q</th>\n",
       "      <th>Na en %</th>\n",
       "    </tr>\n",
       "  </thead>\n",
       "  <tbody>\n",
       "    <tr>\n",
       "      <th>scaler__age</th>\n",
       "      <td>302</td>\n",
       "      <td>0</td>\n",
       "      <td>0.0</td>\n",
       "    </tr>\n",
       "    <tr>\n",
       "      <th>scaler__resting_blood_pressure</th>\n",
       "      <td>302</td>\n",
       "      <td>0</td>\n",
       "      <td>0.0</td>\n",
       "    </tr>\n",
       "    <tr>\n",
       "      <th>onehot__thalassemia_normal</th>\n",
       "      <td>302</td>\n",
       "      <td>0</td>\n",
       "      <td>0.0</td>\n",
       "    </tr>\n",
       "    <tr>\n",
       "      <th>onehot__thalassemia_no</th>\n",
       "      <td>302</td>\n",
       "      <td>0</td>\n",
       "      <td>0.0</td>\n",
       "    </tr>\n",
       "    <tr>\n",
       "      <th>onehot__thalassemia_fixed defect</th>\n",
       "      <td>302</td>\n",
       "      <td>0</td>\n",
       "      <td>0.0</td>\n",
       "    </tr>\n",
       "    <tr>\n",
       "      <th>onehot__slope_upsloping</th>\n",
       "      <td>302</td>\n",
       "      <td>0</td>\n",
       "      <td>0.0</td>\n",
       "    </tr>\n",
       "    <tr>\n",
       "      <th>onehot__slope_flat</th>\n",
       "      <td>302</td>\n",
       "      <td>0</td>\n",
       "      <td>0.0</td>\n",
       "    </tr>\n",
       "    <tr>\n",
       "      <th>onehot__slope_downsloping</th>\n",
       "      <td>302</td>\n",
       "      <td>0</td>\n",
       "      <td>0.0</td>\n",
       "    </tr>\n",
       "    <tr>\n",
       "      <th>onehot__exercise_induced_angina_yes</th>\n",
       "      <td>302</td>\n",
       "      <td>0</td>\n",
       "      <td>0.0</td>\n",
       "    </tr>\n",
       "    <tr>\n",
       "      <th>onehot__exercise_induced_angina_no</th>\n",
       "      <td>302</td>\n",
       "      <td>0</td>\n",
       "      <td>0.0</td>\n",
       "    </tr>\n",
       "    <tr>\n",
       "      <th>onehot__rest_ecg_st-t wave abnormality</th>\n",
       "      <td>302</td>\n",
       "      <td>0</td>\n",
       "      <td>0.0</td>\n",
       "    </tr>\n",
       "    <tr>\n",
       "      <th>onehot__rest_ecg_normal</th>\n",
       "      <td>302</td>\n",
       "      <td>0</td>\n",
       "      <td>0.0</td>\n",
       "    </tr>\n",
       "    <tr>\n",
       "      <th>onehot__rest_ecg_left ventricular hypertrophy</th>\n",
       "      <td>302</td>\n",
       "      <td>0</td>\n",
       "      <td>0.0</td>\n",
       "    </tr>\n",
       "    <tr>\n",
       "      <th>onehot__fasting_blood_sugar_lower than 120 mg/ml</th>\n",
       "      <td>302</td>\n",
       "      <td>0</td>\n",
       "      <td>0.0</td>\n",
       "    </tr>\n",
       "    <tr>\n",
       "      <th>onehot__fasting_blood_sugar_greater than 120 mg/ml</th>\n",
       "      <td>302</td>\n",
       "      <td>0</td>\n",
       "      <td>0.0</td>\n",
       "    </tr>\n",
       "    <tr>\n",
       "      <th>onehot__chest_pain_type_typical angina</th>\n",
       "      <td>302</td>\n",
       "      <td>0</td>\n",
       "      <td>0.0</td>\n",
       "    </tr>\n",
       "    <tr>\n",
       "      <th>onehot__chest_pain_type_non-anginal pain</th>\n",
       "      <td>302</td>\n",
       "      <td>0</td>\n",
       "      <td>0.0</td>\n",
       "    </tr>\n",
       "    <tr>\n",
       "      <th>onehot__chest_pain_type_atypical angina</th>\n",
       "      <td>302</td>\n",
       "      <td>0</td>\n",
       "      <td>0.0</td>\n",
       "    </tr>\n",
       "    <tr>\n",
       "      <th>onehot__chest_pain_type_asymptomatic</th>\n",
       "      <td>302</td>\n",
       "      <td>0</td>\n",
       "      <td>0.0</td>\n",
       "    </tr>\n",
       "    <tr>\n",
       "      <th>onehot__sex_male</th>\n",
       "      <td>302</td>\n",
       "      <td>0</td>\n",
       "      <td>0.0</td>\n",
       "    </tr>\n",
       "    <tr>\n",
       "      <th>onehot__sex_female</th>\n",
       "      <td>302</td>\n",
       "      <td>0</td>\n",
       "      <td>0.0</td>\n",
       "    </tr>\n",
       "    <tr>\n",
       "      <th>ordinal__vessels_colored_by_flourosopy</th>\n",
       "      <td>302</td>\n",
       "      <td>0</td>\n",
       "      <td>0.0</td>\n",
       "    </tr>\n",
       "    <tr>\n",
       "      <th>scaler__oldpeak</th>\n",
       "      <td>302</td>\n",
       "      <td>0</td>\n",
       "      <td>0.0</td>\n",
       "    </tr>\n",
       "    <tr>\n",
       "      <th>scaler__Max_heart_rate</th>\n",
       "      <td>302</td>\n",
       "      <td>0</td>\n",
       "      <td>0.0</td>\n",
       "    </tr>\n",
       "    <tr>\n",
       "      <th>scaler__cholestoral</th>\n",
       "      <td>302</td>\n",
       "      <td>0</td>\n",
       "      <td>0.0</td>\n",
       "    </tr>\n",
       "    <tr>\n",
       "      <th>onehot__thalassemia_reversable defect</th>\n",
       "      <td>302</td>\n",
       "      <td>0</td>\n",
       "      <td>0.0</td>\n",
       "    </tr>\n",
       "  </tbody>\n",
       "</table>\n",
       "</div>"
      ],
      "text/plain": [
       "                                                    datos sin NAs en q  \\\n",
       "scaler__age                                                        302   \n",
       "scaler__resting_blood_pressure                                     302   \n",
       "onehot__thalassemia_normal                                         302   \n",
       "onehot__thalassemia_no                                             302   \n",
       "onehot__thalassemia_fixed defect                                   302   \n",
       "onehot__slope_upsloping                                            302   \n",
       "onehot__slope_flat                                                 302   \n",
       "onehot__slope_downsloping                                          302   \n",
       "onehot__exercise_induced_angina_yes                                302   \n",
       "onehot__exercise_induced_angina_no                                 302   \n",
       "onehot__rest_ecg_st-t wave abnormality                             302   \n",
       "onehot__rest_ecg_normal                                            302   \n",
       "onehot__rest_ecg_left ventricular hypertrophy                      302   \n",
       "onehot__fasting_blood_sugar_lower than 120 mg/ml                   302   \n",
       "onehot__fasting_blood_sugar_greater than 120 mg/ml                 302   \n",
       "onehot__chest_pain_type_typical angina                             302   \n",
       "onehot__chest_pain_type_non-anginal pain                           302   \n",
       "onehot__chest_pain_type_atypical angina                            302   \n",
       "onehot__chest_pain_type_asymptomatic                               302   \n",
       "onehot__sex_male                                                   302   \n",
       "onehot__sex_female                                                 302   \n",
       "ordinal__vessels_colored_by_flourosopy                             302   \n",
       "scaler__oldpeak                                                    302   \n",
       "scaler__Max_heart_rate                                             302   \n",
       "scaler__cholestoral                                                302   \n",
       "onehot__thalassemia_reversable defect                              302   \n",
       "\n",
       "                                                    Na en q  Na en %  \n",
       "scaler__age                                               0      0.0  \n",
       "scaler__resting_blood_pressure                            0      0.0  \n",
       "onehot__thalassemia_normal                                0      0.0  \n",
       "onehot__thalassemia_no                                    0      0.0  \n",
       "onehot__thalassemia_fixed defect                          0      0.0  \n",
       "onehot__slope_upsloping                                   0      0.0  \n",
       "onehot__slope_flat                                        0      0.0  \n",
       "onehot__slope_downsloping                                 0      0.0  \n",
       "onehot__exercise_induced_angina_yes                       0      0.0  \n",
       "onehot__exercise_induced_angina_no                        0      0.0  \n",
       "onehot__rest_ecg_st-t wave abnormality                    0      0.0  \n",
       "onehot__rest_ecg_normal                                   0      0.0  \n",
       "onehot__rest_ecg_left ventricular hypertrophy             0      0.0  \n",
       "onehot__fasting_blood_sugar_lower than 120 mg/ml          0      0.0  \n",
       "onehot__fasting_blood_sugar_greater than 120 mg/ml        0      0.0  \n",
       "onehot__chest_pain_type_typical angina                    0      0.0  \n",
       "onehot__chest_pain_type_non-anginal pain                  0      0.0  \n",
       "onehot__chest_pain_type_atypical angina                   0      0.0  \n",
       "onehot__chest_pain_type_asymptomatic                      0      0.0  \n",
       "onehot__sex_male                                          0      0.0  \n",
       "onehot__sex_female                                        0      0.0  \n",
       "ordinal__vessels_colored_by_flourosopy                    0      0.0  \n",
       "scaler__oldpeak                                           0      0.0  \n",
       "scaler__Max_heart_rate                                    0      0.0  \n",
       "scaler__cholestoral                                       0      0.0  \n",
       "onehot__thalassemia_reversable defect                     0      0.0  "
      ]
     },
     "execution_count": 22,
     "metadata": {},
     "output_type": "execute_result"
    }
   ],
   "source": [
    "obtener_estadisticas_datos_nulos(df_transf)"
   ]
  },
  {
   "cell_type": "markdown",
   "metadata": {},
   "source": [
    "Al parecer, la transformación se realiza correctamente."
   ]
  },
  {
   "cell_type": "code",
   "execution_count": 23,
   "metadata": {},
   "outputs": [],
   "source": [
    "del X_transf\n",
    "del df_transf"
   ]
  },
  {
   "cell_type": "code",
   "execution_count": 24,
   "metadata": {},
   "outputs": [],
   "source": [
    "X_train_processed = preprocessor.fit_transform(X_train)\n",
    "X_test_processed = preprocessor.transform(X_test)"
   ]
  },
  {
   "cell_type": "code",
   "execution_count": 25,
   "metadata": {},
   "outputs": [
    {
     "data": {
      "text/plain": [
       "(241, 26)"
      ]
     },
     "execution_count": 25,
     "metadata": {},
     "output_type": "execute_result"
    }
   ],
   "source": [
    "X_train_processed.shape"
   ]
  },
  {
   "cell_type": "code",
   "execution_count": 26,
   "metadata": {},
   "outputs": [
    {
     "name": "stderr",
     "output_type": "stream",
     "text": [
      "/home/diego/.virtualenvs/venv/lib/python3.10/site-packages/keras/src/layers/core/dense.py:87: UserWarning: Do not pass an `input_shape`/`input_dim` argument to a layer. When using Sequential models, prefer using an `Input(shape)` object as the first layer in the model instead.\n",
      "  super().__init__(activity_regularizer=activity_regularizer, **kwargs)\n",
      "I0000 00:00:1733629881.133674   85838 gpu_device.cc:2022] Created device /job:localhost/replica:0/task:0/device:GPU:0 with 214 MB memory:  -> device: 0, name: NVIDIA GeForce GTX 1050, pci bus id: 0000:01:00.0, compute capability: 6.1\n"
     ]
    },
    {
     "data": {
      "text/html": [
       "<pre style=\"white-space:pre;overflow-x:auto;line-height:normal;font-family:Menlo,'DejaVu Sans Mono',consolas,'Courier New',monospace\"><span style=\"font-weight: bold\">Model: \"sequential\"</span>\n",
       "</pre>\n"
      ],
      "text/plain": [
       "\u001b[1mModel: \"sequential\"\u001b[0m\n"
      ]
     },
     "metadata": {},
     "output_type": "display_data"
    },
    {
     "data": {
      "text/html": [
       "<pre style=\"white-space:pre;overflow-x:auto;line-height:normal;font-family:Menlo,'DejaVu Sans Mono',consolas,'Courier New',monospace\">┏━━━━━━━━━━━━━━━━━━━━━━━━━━━━━━━━━┳━━━━━━━━━━━━━━━━━━━━━━━━┳━━━━━━━━━━━━━━━┓\n",
       "┃<span style=\"font-weight: bold\"> Layer (type)                    </span>┃<span style=\"font-weight: bold\"> Output Shape           </span>┃<span style=\"font-weight: bold\">       Param # </span>┃\n",
       "┡━━━━━━━━━━━━━━━━━━━━━━━━━━━━━━━━━╇━━━━━━━━━━━━━━━━━━━━━━━━╇━━━━━━━━━━━━━━━┩\n",
       "│ dense (<span style=\"color: #0087ff; text-decoration-color: #0087ff\">Dense</span>)                   │ (<span style=\"color: #00d7ff; text-decoration-color: #00d7ff\">None</span>, <span style=\"color: #00af00; text-decoration-color: #00af00\">128</span>)            │         <span style=\"color: #00af00; text-decoration-color: #00af00\">3,456</span> │\n",
       "├─────────────────────────────────┼────────────────────────┼───────────────┤\n",
       "│ dense_1 (<span style=\"color: #0087ff; text-decoration-color: #0087ff\">Dense</span>)                 │ (<span style=\"color: #00d7ff; text-decoration-color: #00d7ff\">None</span>, <span style=\"color: #00af00; text-decoration-color: #00af00\">64</span>)             │         <span style=\"color: #00af00; text-decoration-color: #00af00\">8,256</span> │\n",
       "├─────────────────────────────────┼────────────────────────┼───────────────┤\n",
       "│ dropout (<span style=\"color: #0087ff; text-decoration-color: #0087ff\">Dropout</span>)               │ (<span style=\"color: #00d7ff; text-decoration-color: #00d7ff\">None</span>, <span style=\"color: #00af00; text-decoration-color: #00af00\">64</span>)             │             <span style=\"color: #00af00; text-decoration-color: #00af00\">0</span> │\n",
       "├─────────────────────────────────┼────────────────────────┼───────────────┤\n",
       "│ dense_2 (<span style=\"color: #0087ff; text-decoration-color: #0087ff\">Dense</span>)                 │ (<span style=\"color: #00d7ff; text-decoration-color: #00d7ff\">None</span>, <span style=\"color: #00af00; text-decoration-color: #00af00\">32</span>)             │         <span style=\"color: #00af00; text-decoration-color: #00af00\">2,080</span> │\n",
       "├─────────────────────────────────┼────────────────────────┼───────────────┤\n",
       "│ dropout_1 (<span style=\"color: #0087ff; text-decoration-color: #0087ff\">Dropout</span>)             │ (<span style=\"color: #00d7ff; text-decoration-color: #00d7ff\">None</span>, <span style=\"color: #00af00; text-decoration-color: #00af00\">32</span>)             │             <span style=\"color: #00af00; text-decoration-color: #00af00\">0</span> │\n",
       "├─────────────────────────────────┼────────────────────────┼───────────────┤\n",
       "│ dense_3 (<span style=\"color: #0087ff; text-decoration-color: #0087ff\">Dense</span>)                 │ (<span style=\"color: #00d7ff; text-decoration-color: #00d7ff\">None</span>, <span style=\"color: #00af00; text-decoration-color: #00af00\">1</span>)              │            <span style=\"color: #00af00; text-decoration-color: #00af00\">33</span> │\n",
       "└─────────────────────────────────┴────────────────────────┴───────────────┘\n",
       "</pre>\n"
      ],
      "text/plain": [
       "┏━━━━━━━━━━━━━━━━━━━━━━━━━━━━━━━━━┳━━━━━━━━━━━━━━━━━━━━━━━━┳━━━━━━━━━━━━━━━┓\n",
       "┃\u001b[1m \u001b[0m\u001b[1mLayer (type)                   \u001b[0m\u001b[1m \u001b[0m┃\u001b[1m \u001b[0m\u001b[1mOutput Shape          \u001b[0m\u001b[1m \u001b[0m┃\u001b[1m \u001b[0m\u001b[1m      Param #\u001b[0m\u001b[1m \u001b[0m┃\n",
       "┡━━━━━━━━━━━━━━━━━━━━━━━━━━━━━━━━━╇━━━━━━━━━━━━━━━━━━━━━━━━╇━━━━━━━━━━━━━━━┩\n",
       "│ dense (\u001b[38;5;33mDense\u001b[0m)                   │ (\u001b[38;5;45mNone\u001b[0m, \u001b[38;5;34m128\u001b[0m)            │         \u001b[38;5;34m3,456\u001b[0m │\n",
       "├─────────────────────────────────┼────────────────────────┼───────────────┤\n",
       "│ dense_1 (\u001b[38;5;33mDense\u001b[0m)                 │ (\u001b[38;5;45mNone\u001b[0m, \u001b[38;5;34m64\u001b[0m)             │         \u001b[38;5;34m8,256\u001b[0m │\n",
       "├─────────────────────────────────┼────────────────────────┼───────────────┤\n",
       "│ dropout (\u001b[38;5;33mDropout\u001b[0m)               │ (\u001b[38;5;45mNone\u001b[0m, \u001b[38;5;34m64\u001b[0m)             │             \u001b[38;5;34m0\u001b[0m │\n",
       "├─────────────────────────────────┼────────────────────────┼───────────────┤\n",
       "│ dense_2 (\u001b[38;5;33mDense\u001b[0m)                 │ (\u001b[38;5;45mNone\u001b[0m, \u001b[38;5;34m32\u001b[0m)             │         \u001b[38;5;34m2,080\u001b[0m │\n",
       "├─────────────────────────────────┼────────────────────────┼───────────────┤\n",
       "│ dropout_1 (\u001b[38;5;33mDropout\u001b[0m)             │ (\u001b[38;5;45mNone\u001b[0m, \u001b[38;5;34m32\u001b[0m)             │             \u001b[38;5;34m0\u001b[0m │\n",
       "├─────────────────────────────────┼────────────────────────┼───────────────┤\n",
       "│ dense_3 (\u001b[38;5;33mDense\u001b[0m)                 │ (\u001b[38;5;45mNone\u001b[0m, \u001b[38;5;34m1\u001b[0m)              │            \u001b[38;5;34m33\u001b[0m │\n",
       "└─────────────────────────────────┴────────────────────────┴───────────────┘\n"
      ]
     },
     "metadata": {},
     "output_type": "display_data"
    },
    {
     "data": {
      "text/html": [
       "<pre style=\"white-space:pre;overflow-x:auto;line-height:normal;font-family:Menlo,'DejaVu Sans Mono',consolas,'Courier New',monospace\"><span style=\"font-weight: bold\"> Total params: </span><span style=\"color: #00af00; text-decoration-color: #00af00\">13,825</span> (54.00 KB)\n",
       "</pre>\n"
      ],
      "text/plain": [
       "\u001b[1m Total params: \u001b[0m\u001b[38;5;34m13,825\u001b[0m (54.00 KB)\n"
      ]
     },
     "metadata": {},
     "output_type": "display_data"
    },
    {
     "data": {
      "text/html": [
       "<pre style=\"white-space:pre;overflow-x:auto;line-height:normal;font-family:Menlo,'DejaVu Sans Mono',consolas,'Courier New',monospace\"><span style=\"font-weight: bold\"> Trainable params: </span><span style=\"color: #00af00; text-decoration-color: #00af00\">13,825</span> (54.00 KB)\n",
       "</pre>\n"
      ],
      "text/plain": [
       "\u001b[1m Trainable params: \u001b[0m\u001b[38;5;34m13,825\u001b[0m (54.00 KB)\n"
      ]
     },
     "metadata": {},
     "output_type": "display_data"
    },
    {
     "data": {
      "text/html": [
       "<pre style=\"white-space:pre;overflow-x:auto;line-height:normal;font-family:Menlo,'DejaVu Sans Mono',consolas,'Courier New',monospace\"><span style=\"font-weight: bold\"> Non-trainable params: </span><span style=\"color: #00af00; text-decoration-color: #00af00\">0</span> (0.00 B)\n",
       "</pre>\n"
      ],
      "text/plain": [
       "\u001b[1m Non-trainable params: \u001b[0m\u001b[38;5;34m0\u001b[0m (0.00 B)\n"
      ]
     },
     "metadata": {},
     "output_type": "display_data"
    }
   ],
   "source": [
    "model = Sequential([\n",
    "    Dense(128, activation='relu', input_dim=26),\n",
    "    Dense(64, activation='relu'),\n",
    "    Dropout(0.3),\n",
    "    Dense(32, activation='relu'),\n",
    "    Dropout(0.3),\n",
    "    Dense(1, activation='sigmoid')\n",
    "])\n",
    "\n",
    "model.compile(optimizer=Adam(learning_rate=0.001), loss='binary_crossentropy', metrics=['accuracy'])\n",
    "\n",
    "model.summary()"
   ]
  },
  {
   "cell_type": "markdown",
   "metadata": {},
   "source": [
    "### Implementa el early stopping para detener el entrenamiento cuando la precisión en el conjunto de validación deje de mejorar después de varias épocas (por ejemplo, paciencia de 5 épocas)."
   ]
  },
  {
   "cell_type": "code",
   "execution_count": 27,
   "metadata": {},
   "outputs": [],
   "source": [
    "# Definir el callback de Early Stopping\n",
    "early_stopping = EarlyStopping(monitor='accuracy', patience=5, restore_best_weights=True)"
   ]
  },
  {
   "cell_type": "markdown",
   "metadata": {},
   "source": [
    "## 4. Entrenamiento del modelo:"
   ]
  },
  {
   "cell_type": "markdown",
   "metadata": {},
   "source": [
    "### Entrena el modelo con early stopping activado, utilizando el optimizador Adam y la función de pérdida binaria (binary_crossentropy). Entrena durante un máximo de 100 épocas."
   ]
  },
  {
   "cell_type": "code",
   "execution_count": 28,
   "metadata": {},
   "outputs": [
    {
     "name": "stdout",
     "output_type": "stream",
     "text": [
      "Epoch 1/100\n"
     ]
    },
    {
     "name": "stderr",
     "output_type": "stream",
     "text": [
      "WARNING: All log messages before absl::InitializeLog() is called are written to STDERR\n",
      "I0000 00:00:1733629883.204035   85913 service.cc:148] XLA service 0x74880c00b2a0 initialized for platform CUDA (this does not guarantee that XLA will be used). Devices:\n",
      "I0000 00:00:1733629883.204067   85913 service.cc:156]   StreamExecutor device (0): NVIDIA GeForce GTX 1050, Compute Capability 6.1\n",
      "2024-12-08 03:51:23.240390: I tensorflow/compiler/mlir/tensorflow/utils/dump_mlir_util.cc:268] disabling MLIR crash reproducer, set env var `MLIR_CRASH_REPRODUCER_DIRECTORY` to enable.\n",
      "I0000 00:00:1733629883.433320   85913 cuda_dnn.cc:529] Loaded cuDNN version 90300\n"
     ]
    },
    {
     "name": "stdout",
     "output_type": "stream",
     "text": [
      "\u001b[1m13/24\u001b[0m \u001b[32m━━━━━━━━━━\u001b[0m\u001b[37m━━━━━━━━━━\u001b[0m \u001b[1m0s\u001b[0m 4ms/step - accuracy: 0.5643 - loss: 0.6860 "
     ]
    },
    {
     "name": "stderr",
     "output_type": "stream",
     "text": [
      "I0000 00:00:1733629885.266666   85913 device_compiler.h:188] Compiled cluster using XLA!  This line is logged at most once for the lifetime of the process.\n"
     ]
    },
    {
     "name": "stdout",
     "output_type": "stream",
     "text": [
      "\u001b[1m24/24\u001b[0m \u001b[32m━━━━━━━━━━━━━━━━━━━━\u001b[0m\u001b[37m\u001b[0m \u001b[1m4s\u001b[0m 37ms/step - accuracy: 0.5868 - loss: 0.6718 - val_accuracy: 0.7959 - val_loss: 0.5387\n",
      "Epoch 2/100\n",
      "\u001b[1m24/24\u001b[0m \u001b[32m━━━━━━━━━━━━━━━━━━━━\u001b[0m\u001b[37m\u001b[0m \u001b[1m0s\u001b[0m 5ms/step - accuracy: 0.7475 - loss: 0.5262 - val_accuracy: 0.8367 - val_loss: 0.4409\n",
      "Epoch 3/100\n",
      "\u001b[1m24/24\u001b[0m \u001b[32m━━━━━━━━━━━━━━━━━━━━\u001b[0m\u001b[37m\u001b[0m \u001b[1m0s\u001b[0m 5ms/step - accuracy: 0.8468 - loss: 0.3799 - val_accuracy: 0.8367 - val_loss: 0.4021\n",
      "Epoch 4/100\n",
      "\u001b[1m24/24\u001b[0m \u001b[32m━━━━━━━━━━━━━━━━━━━━\u001b[0m\u001b[37m\u001b[0m \u001b[1m0s\u001b[0m 5ms/step - accuracy: 0.8749 - loss: 0.3327 - val_accuracy: 0.8367 - val_loss: 0.4131\n",
      "Epoch 5/100\n",
      "\u001b[1m24/24\u001b[0m \u001b[32m━━━━━━━━━━━━━━━━━━━━\u001b[0m\u001b[37m\u001b[0m \u001b[1m0s\u001b[0m 5ms/step - accuracy: 0.8674 - loss: 0.2780 - val_accuracy: 0.8571 - val_loss: 0.4239\n",
      "Epoch 6/100\n",
      "\u001b[1m24/24\u001b[0m \u001b[32m━━━━━━━━━━━━━━━━━━━━\u001b[0m\u001b[37m\u001b[0m \u001b[1m0s\u001b[0m 5ms/step - accuracy: 0.8598 - loss: 0.3206 - val_accuracy: 0.8163 - val_loss: 0.4734\n",
      "Epoch 7/100\n",
      "\u001b[1m24/24\u001b[0m \u001b[32m━━━━━━━━━━━━━━━━━━━━\u001b[0m\u001b[37m\u001b[0m \u001b[1m0s\u001b[0m 5ms/step - accuracy: 0.8672 - loss: 0.2683 - val_accuracy: 0.7755 - val_loss: 0.5095\n",
      "Epoch 8/100\n",
      "\u001b[1m24/24\u001b[0m \u001b[32m━━━━━━━━━━━━━━━━━━━━\u001b[0m\u001b[37m\u001b[0m \u001b[1m0s\u001b[0m 5ms/step - accuracy: 0.9212 - loss: 0.2126 - val_accuracy: 0.7755 - val_loss: 0.5123\n",
      "Epoch 9/100\n",
      "\u001b[1m24/24\u001b[0m \u001b[32m━━━━━━━━━━━━━━━━━━━━\u001b[0m\u001b[37m\u001b[0m \u001b[1m0s\u001b[0m 5ms/step - accuracy: 0.9042 - loss: 0.2250 - val_accuracy: 0.7959 - val_loss: 0.5271\n",
      "Epoch 10/100\n",
      "\u001b[1m24/24\u001b[0m \u001b[32m━━━━━━━━━━━━━━━━━━━━\u001b[0m\u001b[37m\u001b[0m \u001b[1m0s\u001b[0m 5ms/step - accuracy: 0.9123 - loss: 0.1805 - val_accuracy: 0.8163 - val_loss: 0.5399\n",
      "Epoch 11/100\n",
      "\u001b[1m24/24\u001b[0m \u001b[32m━━━━━━━━━━━━━━━━━━━━\u001b[0m\u001b[37m\u001b[0m \u001b[1m0s\u001b[0m 5ms/step - accuracy: 0.9097 - loss: 0.2148 - val_accuracy: 0.7959 - val_loss: 0.5259\n",
      "Epoch 12/100\n",
      "\u001b[1m24/24\u001b[0m \u001b[32m━━━━━━━━━━━━━━━━━━━━\u001b[0m\u001b[37m\u001b[0m \u001b[1m0s\u001b[0m 5ms/step - accuracy: 0.9424 - loss: 0.1755 - val_accuracy: 0.7959 - val_loss: 0.5814\n",
      "Epoch 13/100\n",
      "\u001b[1m24/24\u001b[0m \u001b[32m━━━━━━━━━━━━━━━━━━━━\u001b[0m\u001b[37m\u001b[0m \u001b[1m0s\u001b[0m 5ms/step - accuracy: 0.9372 - loss: 0.2290 - val_accuracy: 0.7755 - val_loss: 0.6371\n",
      "Epoch 14/100\n",
      "\u001b[1m24/24\u001b[0m \u001b[32m━━━━━━━━━━━━━━━━━━━━\u001b[0m\u001b[37m\u001b[0m \u001b[1m0s\u001b[0m 5ms/step - accuracy: 0.9557 - loss: 0.1063 - val_accuracy: 0.7551 - val_loss: 0.6804\n",
      "Epoch 15/100\n",
      "\u001b[1m24/24\u001b[0m \u001b[32m━━━━━━━━━━━━━━━━━━━━\u001b[0m\u001b[37m\u001b[0m \u001b[1m0s\u001b[0m 5ms/step - accuracy: 0.9197 - loss: 0.1784 - val_accuracy: 0.7755 - val_loss: 0.6860\n",
      "Epoch 16/100\n",
      "\u001b[1m24/24\u001b[0m \u001b[32m━━━━━━━━━━━━━━━━━━━━\u001b[0m\u001b[37m\u001b[0m \u001b[1m0s\u001b[0m 6ms/step - accuracy: 0.9520 - loss: 0.1272 - val_accuracy: 0.7959 - val_loss: 0.7308\n",
      "Epoch 17/100\n",
      "\u001b[1m24/24\u001b[0m \u001b[32m━━━━━━━━━━━━━━━━━━━━\u001b[0m\u001b[37m\u001b[0m \u001b[1m0s\u001b[0m 5ms/step - accuracy: 0.9540 - loss: 0.1097 - val_accuracy: 0.7755 - val_loss: 0.7212\n",
      "Epoch 18/100\n",
      "\u001b[1m24/24\u001b[0m \u001b[32m━━━━━━━━━━━━━━━━━━━━\u001b[0m\u001b[37m\u001b[0m \u001b[1m0s\u001b[0m 5ms/step - accuracy: 0.9473 - loss: 0.1529 - val_accuracy: 0.7551 - val_loss: 0.7228\n",
      "Epoch 19/100\n",
      "\u001b[1m24/24\u001b[0m \u001b[32m━━━━━━━━━━━━━━━━━━━━\u001b[0m\u001b[37m\u001b[0m \u001b[1m0s\u001b[0m 5ms/step - accuracy: 0.9579 - loss: 0.1157 - val_accuracy: 0.7755 - val_loss: 0.8658\n",
      "Epoch 20/100\n",
      "\u001b[1m24/24\u001b[0m \u001b[32m━━━━━━━━━━━━━━━━━━━━\u001b[0m\u001b[37m\u001b[0m \u001b[1m0s\u001b[0m 5ms/step - accuracy: 0.9816 - loss: 0.0687 - val_accuracy: 0.7347 - val_loss: 0.9091\n",
      "Epoch 21/100\n",
      "\u001b[1m24/24\u001b[0m \u001b[32m━━━━━━━━━━━━━━━━━━━━\u001b[0m\u001b[37m\u001b[0m \u001b[1m0s\u001b[0m 5ms/step - accuracy: 0.9812 - loss: 0.0549 - val_accuracy: 0.7551 - val_loss: 0.8895\n",
      "Epoch 22/100\n",
      "\u001b[1m24/24\u001b[0m \u001b[32m━━━━━━━━━━━━━━━━━━━━\u001b[0m\u001b[37m\u001b[0m \u001b[1m0s\u001b[0m 5ms/step - accuracy: 0.9823 - loss: 0.0753 - val_accuracy: 0.7347 - val_loss: 0.9572\n",
      "Epoch 23/100\n",
      "\u001b[1m24/24\u001b[0m \u001b[32m━━━━━━━━━━━━━━━━━━━━\u001b[0m\u001b[37m\u001b[0m \u001b[1m0s\u001b[0m 5ms/step - accuracy: 0.9821 - loss: 0.0483 - val_accuracy: 0.7347 - val_loss: 1.0081\n",
      "Epoch 24/100\n",
      "\u001b[1m24/24\u001b[0m \u001b[32m━━━━━━━━━━━━━━━━━━━━\u001b[0m\u001b[37m\u001b[0m \u001b[1m0s\u001b[0m 5ms/step - accuracy: 0.9909 - loss: 0.0413 - val_accuracy: 0.7551 - val_loss: 1.0078\n",
      "Epoch 25/100\n",
      "\u001b[1m24/24\u001b[0m \u001b[32m━━━━━━━━━━━━━━━━━━━━\u001b[0m\u001b[37m\u001b[0m \u001b[1m0s\u001b[0m 5ms/step - accuracy: 0.9701 - loss: 0.0698 - val_accuracy: 0.7551 - val_loss: 1.1103\n",
      "Epoch 26/100\n",
      "\u001b[1m24/24\u001b[0m \u001b[32m━━━━━━━━━━━━━━━━━━━━\u001b[0m\u001b[37m\u001b[0m \u001b[1m0s\u001b[0m 5ms/step - accuracy: 0.9922 - loss: 0.0353 - val_accuracy: 0.7551 - val_loss: 1.1868\n",
      "Epoch 27/100\n",
      "\u001b[1m24/24\u001b[0m \u001b[32m━━━━━━━━━━━━━━━━━━━━\u001b[0m\u001b[37m\u001b[0m \u001b[1m0s\u001b[0m 5ms/step - accuracy: 0.9866 - loss: 0.0373 - val_accuracy: 0.7755 - val_loss: 1.1098\n",
      "Epoch 28/100\n",
      "\u001b[1m24/24\u001b[0m \u001b[32m━━━━━━━━━━━━━━━━━━━━\u001b[0m\u001b[37m\u001b[0m \u001b[1m0s\u001b[0m 5ms/step - accuracy: 0.9881 - loss: 0.0369 - val_accuracy: 0.7347 - val_loss: 1.3009\n",
      "Epoch 29/100\n",
      "\u001b[1m24/24\u001b[0m \u001b[32m━━━━━━━━━━━━━━━━━━━━\u001b[0m\u001b[37m\u001b[0m \u001b[1m0s\u001b[0m 5ms/step - accuracy: 0.9934 - loss: 0.0298 - val_accuracy: 0.7551 - val_loss: 1.2464\n",
      "Epoch 30/100\n",
      "\u001b[1m24/24\u001b[0m \u001b[32m━━━━━━━━━━━━━━━━━━━━\u001b[0m\u001b[37m\u001b[0m \u001b[1m0s\u001b[0m 5ms/step - accuracy: 0.9844 - loss: 0.0385 - val_accuracy: 0.7347 - val_loss: 1.4201\n",
      "Epoch 31/100\n",
      "\u001b[1m24/24\u001b[0m \u001b[32m━━━━━━━━━━━━━━━━━━━━\u001b[0m\u001b[37m\u001b[0m \u001b[1m0s\u001b[0m 5ms/step - accuracy: 0.9773 - loss: 0.0569 - val_accuracy: 0.7551 - val_loss: 1.2570\n"
     ]
    }
   ],
   "source": [
    "history = model.fit(X_train_processed, y_train, epochs=100, batch_size=8, validation_split=0.2, callbacks=[early_stopping])"
   ]
  },
  {
   "cell_type": "markdown",
   "metadata": {},
   "source": [
    "### Visualiza las curvas de aprendizaje para observar cómo evoluciona la pérdida y la precisión a lo largo del entrenamiento, especialmente con early stopping activado."
   ]
  },
  {
   "cell_type": "code",
   "execution_count": 29,
   "metadata": {},
   "outputs": [
    {
     "data": {
      "image/png": "[encoded data removed]",
      "text/plain": [
       "<Figure size 2000x800 with 1 Axes>"
      ]
     },
     "metadata": {},
     "output_type": "display_data"
    }
   ],
   "source": [
    "tr_loss = history.history['loss']\n",
    "val_loss = history.history['val_loss']\n",
    "index_loss = np.argmin(val_loss)\n",
    "val_lowest = val_loss[index_loss]\n",
    "\n",
    "epochs = [i+1 for i in range(len(tr_loss))]\n",
    "\n",
    "# Gráfico\n",
    "plt.figure(figsize= (20, 8))\n",
    "\n",
    "plt.plot(epochs, tr_loss, 'r', label= 'Loss de Training')\n",
    "plt.plot(epochs, val_loss, 'g', label= 'Loss de validación')\n",
    "plt.title('Loss de training y validación')\n",
    "plt.xlabel('Epochs')\n",
    "plt.ylabel('Loss')\n",
    "plt.legend()\n",
    "\n",
    "plt.tight_layout()\n",
    "plt.show()"
   ]
  },
  {
   "cell_type": "markdown",
   "metadata": {},
   "source": [
    "## 5. Evaluación del modelo:\n"
   ]
  },
  {
   "cell_type": "markdown",
   "metadata": {},
   "source": [
    "### Evalúa el modelo en el conjunto de prueba y compara las métricas de rendimiento, como precisión, recall, F1-score y matriz de confusión."
   ]
  },
  {
   "cell_type": "code",
   "execution_count": 30,
   "metadata": {},
   "outputs": [
    {
     "name": "stdout",
     "output_type": "stream",
     "text": [
      "\u001b[1m2/2\u001b[0m \u001b[32m━━━━━━━━━━━━━━━━━━━━\u001b[0m\u001b[37m\u001b[0m \u001b[1m1s\u001b[0m 345ms/step\n",
      "Accuracy Neural Network: 0.7868852459016393\n",
      "Precision Neural Network: 0.7857142857142857\n",
      "Recall Neural Network: 0.7586206896551724\n",
      "F1 Neural Network: 0.7719298245614035\n",
      "ROC AUC Neural Network: 0.831896551724138\n"
     ]
    }
   ],
   "source": [
    "y_pred_nn = model.predict(X_test_processed)\n",
    "\n",
    "\n",
    "y_pred_nn_binarized = [1 if y > 0.95 else 0 for y in y_pred_nn]\n",
    "\n",
    "\n",
    "accuracy_nn = accuracy_score(y_test, y_pred_nn_binarized)\n",
    "precision_nn = precision_score(y_test, y_pred_nn_binarized)\n",
    "recall_nn = recall_score(y_test, y_pred_nn_binarized)\n",
    "f1_nn = f1_score(y_test, y_pred_nn_binarized)\n",
    "roc_auc_nn = roc_auc_score(y_test, y_pred_nn)\n",
    "\n",
    "\n",
    "print(f\"Accuracy Neural Network: {accuracy_nn}\")\n",
    "print(f\"Precision Neural Network: {precision_nn}\")\n",
    "print(f\"Recall Neural Network: {recall_nn}\")\n",
    "print(f\"F1 Neural Network: {f1_nn}\")\n",
    "print(f\"ROC AUC Neural Network: {roc_auc_nn}\")"
   ]
  },
  {
   "cell_type": "code",
   "execution_count": 31,
   "metadata": {},
   "outputs": [
    {
     "name": "stdout",
     "output_type": "stream",
     "text": [
      "Reporte de Clasificación Neural Network\n",
      "              precision    recall  f1-score   support\n",
      "\n",
      "         0.0       0.79      0.81      0.80        32\n",
      "         1.0       0.79      0.76      0.77        29\n",
      "\n",
      "    accuracy                           0.79        61\n",
      "   macro avg       0.79      0.79      0.79        61\n",
      "weighted avg       0.79      0.79      0.79        61\n",
      "\n",
      "Matriz de confusión Neural Network\n",
      "[[26  6]\n",
      " [ 7 22]]\n"
     ]
    }
   ],
   "source": [
    "classification_report_nn = classification_report(y_test, y_pred_nn_binarized)\n",
    "conf_matrix_nn = confusion_matrix(y_test, y_pred_nn_binarized)\n",
    "\n",
    "print(\"Reporte de Clasificación Neural Network\")\n",
    "print(classification_report_nn)\n",
    "print(\"Matriz de confusión Neural Network\")\n",
    "print(conf_matrix_nn)"
   ]
  },
  {
   "cell_type": "code",
   "execution_count": 32,
   "metadata": {},
   "outputs": [
    {
     "data": {
      "image/png": "[encoded data removed]",
      "text/plain": [
       "<Figure size 700x500 with 2 Axes>"
      ]
     },
     "metadata": {},
     "output_type": "display_data"
    }
   ],
   "source": [
    "graficar_matriz_confusion(conf_matrix_nn, figsize=(7, 5))"
   ]
  },
  {
   "cell_type": "markdown",
   "metadata": {},
   "source": [
    "### Discute cómo el uso de dropout y early stopping ha afectado el rendimiento en comparación con un MLP básico sin estas técnicas."
   ]
  },
  {
   "cell_type": "markdown",
   "metadata": {},
   "source": [
    "Se realizaron pruebas con y sin Dropout, y el rendimiento efectivamente mejora al incluírlos en medio de las capas. La prueba del dropout se realizó comentando los dropouts y comparando el rendimiento. También, el entrenamiento paró cuando ya no se detectaban mejoras en el accuracy del modelo, evitando un procesamiento ya innecesario."
   ]
  }
 ],
 "metadata": {
  "kernelspec": {
   "display_name": "venv",
   "language": "python",
   "name": "python3"
  },
  "language_info": {
   "codemirror_mode": {
    "name": "ipython",
    "version": 3
   },
   "file_extension": ".py",
   "mimetype": "text/x-python",
   "name": "python",
   "nbconvert_exporter": "python",
   "pygments_lexer": "ipython3",
   "version": "3.10.12"
  }
 },
 "nbformat": 4,
 "nbformat_minor": 2
}
