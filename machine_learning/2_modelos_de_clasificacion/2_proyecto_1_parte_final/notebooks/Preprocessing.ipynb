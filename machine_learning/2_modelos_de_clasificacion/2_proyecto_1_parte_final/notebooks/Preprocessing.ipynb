{
 "cells": [
  {
   "cell_type": "markdown",
   "metadata": {},
   "source": [
    "# Proyecto 1 - Parte final (Core)"
   ]
  },
  {
   "cell_type": "markdown",
   "metadata": {},
   "source": [
    "Previo a cualquier cosa, cargamos el dataset. Como no hubo ninguna limpieza de datos ya que todo estaba bien, se carga el dataset original."
   ]
  },
  {
   "cell_type": "code",
   "execution_count": 1,
   "metadata": {},
   "outputs": [],
   "source": [
    "import pandas as pd\n",
    "\n",
    "\n",
    "camino_ds = \"../data/retail_sales_dataset.csv\"\n",
    "df = pd.read_csv(camino_ds, delimiter=\",\")"
   ]
  },
  {
   "cell_type": "markdown",
   "metadata": {},
   "source": [
    "## Parte 2: Preprocesamiento de Datos"
   ]
  },
  {
   "cell_type": "markdown",
   "metadata": {},
   "source": [
    "### 1. Transformación de Columnas:"
   ]
  },
  {
   "cell_type": "markdown",
   "metadata": {},
   "source": [
    "* Utilizar ColumnTransformer para aplicar transformaciones específicas a diferentes columnas."
   ]
  },
  {
   "cell_type": "markdown",
   "metadata": {},
   "source": [
    "Para esta predicción, se seleccionará quantity como campo de salida, ya que sería útil para la tienda, dependiendo de el genero, categoría y precio por unidad, saber cuantos ítems se comprarían. De igual manera, este dataset parece tener pocos campos a predecir."
   ]
  },
  {
   "cell_type": "code",
   "execution_count": 2,
   "metadata": {},
   "outputs": [
    {
     "name": "stdout",
     "output_type": "stream",
     "text": [
      "['Transaction ID', 'Age', 'Quantity', 'Price per Unit', 'Total Amount']\n",
      "['Date', 'Customer ID', 'Gender', 'Product Category']\n"
     ]
    }
   ],
   "source": [
    "from eda_utils import (\n",
    "    obtener_columnas_numericas_df,\n",
    "    obtener_columnas_categoricas_df,\n",
    ")\n",
    "\n",
    "columnas_numericas = obtener_columnas_numericas_df(df)\n",
    "columnas_categoricas = obtener_columnas_categoricas_df(df)\n",
    "\n",
    "print(columnas_numericas)\n",
    "print(columnas_categoricas)"
   ]
  },
  {
   "cell_type": "code",
   "execution_count": 3,
   "metadata": {},
   "outputs": [],
   "source": [
    "columnas_numericas_prediccion = [\n",
    "    \"Age\",\n",
    "    # \"Quantity\",\n",
    "    \"Price per Unit\",\n",
    "    # \"Total Amount\",\n",
    "\n",
    "]\n",
    "\n",
    "columnas_categoricas_prediccion = [\n",
    "    \"Gender\",\n",
    "    \"Product Category\",\n",
    "]\n",
    "\n",
    "campo_salida = \"Quantity\"\n",
    "\n",
    "\n",
    "X = df[[*columnas_numericas_prediccion] + [*columnas_categoricas_prediccion]]\n",
    "y = df[campo_salida]"
   ]
  },
  {
   "cell_type": "markdown",
   "metadata": {},
   "source": [
    "Realizamos el split del dataframe en train y test, con una proporción del 30% para testeo."
   ]
  },
  {
   "cell_type": "code",
   "execution_count": 4,
   "metadata": {},
   "outputs": [],
   "source": [
    "from sklearn.model_selection import train_test_split\n",
    "\n",
    "\n",
    "X_train, X_test, y_train, y_test = train_test_split(\n",
    "    X,\n",
    "    y,\n",
    "    test_size=0.3,\n",
    "    random_state=0,\n",
    ")"
   ]
  },
  {
   "cell_type": "markdown",
   "metadata": {},
   "source": [
    "Creamos el Column Transformer que convertirá las columnas categóricas usando el OneHotEncoder, y las columnas numéricas con StandardScaler."
   ]
  },
  {
   "cell_type": "code",
   "execution_count": 5,
   "metadata": {},
   "outputs": [],
   "source": [
    "from sklearn.compose import ColumnTransformer\n",
    "from sklearn.preprocessing import OneHotEncoder, StandardScaler\n",
    "\n",
    "categorical_transformer = OneHotEncoder(handle_unknown='ignore')\n",
    "scaler = StandardScaler()\n",
    "\n",
    "preprocessor = ColumnTransformer(\n",
    "    transformers=[\n",
    "        (\"num\", scaler, columnas_numericas_prediccion),\n",
    "        (\"cat\", categorical_transformer, columnas_categoricas_prediccion),\n",
    "    ]\n",
    ")"
   ]
  },
  {
   "cell_type": "markdown",
   "metadata": {},
   "source": [
    "### Pipelines:"
   ]
  },
  {
   "cell_type": "markdown",
   "metadata": {},
   "source": [
    "* Crear pipelines para automatizar el preprocesamiento de datos y asegurar la reproducibilidad."
   ]
  },
  {
   "cell_type": "code",
   "execution_count": null,
   "metadata": {},
   "outputs": [],
   "source": [
    "from sklearn.pipeline import Pipeline\n",
    "\n",
    "\n",
    "pipeline = Pipeline(steps=[('preprocessor', preprocessor)])"
   ]
  }
 ],
 "metadata": {
  "kernelspec": {
   "display_name": "ds_bootcamp_venv",
   "language": "python",
   "name": "python3"
  },
  "language_info": {
   "codemirror_mode": {
    "name": "ipython",
    "version": 3
   },
   "file_extension": ".py",
   "mimetype": "text/x-python",
   "name": "python",
   "nbconvert_exporter": "python",
   "pygments_lexer": "ipython3",
   "version": "3.9.6"
  }
 },
 "nbformat": 4,
 "nbformat_minor": 2
}
