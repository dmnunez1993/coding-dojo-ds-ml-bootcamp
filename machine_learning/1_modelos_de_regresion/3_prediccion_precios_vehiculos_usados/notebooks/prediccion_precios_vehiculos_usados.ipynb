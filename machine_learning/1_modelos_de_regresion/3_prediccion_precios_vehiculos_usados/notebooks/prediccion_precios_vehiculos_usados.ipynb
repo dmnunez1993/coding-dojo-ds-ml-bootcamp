{
 "cells": [
  {
   "cell_type": "code",
   "execution_count": 1,
   "metadata": {},
   "outputs": [
    {
     "name": "stdout",
     "output_type": "stream",
     "text": [
      "Dataset URL: https://www.kaggle.com/datasets/austinreese/craigslist-carstrucks-data\n",
      "Downloading craigslist-carstrucks-data.zip to ../data/craigslist-carstrucks-data\n"
     ]
    },
    {
     "name": "stderr",
     "output_type": "stream",
     "text": [
      "100%|██████████| 262M/262M [00:33<00:00, 8.31MB/s] \n"
     ]
    },
    {
     "name": "stdout",
     "output_type": "stream",
     "text": [
      "\n"
     ]
    }
   ],
   "source": [
    "from git_utils import get_repo_file_path\n",
    "from kaggle_utils import descargar_dataset_kaggle\n",
    "\n",
    "\n",
    "# Asegúrarse de que el archivo kaggle.json con las credenciales de kaggle\n",
    "# estén en el directorio base del repositorio.\n",
    "kaggle_credentials_path = get_repo_file_path(\"kaggle.json\")\n",
    "\n",
    "descargar_dataset_kaggle(\n",
    "    \"https://www.kaggle.com/datasets/austinreese/craigslist-carstrucks-data\",\n",
    "    kaggle_credentials_path,\n",
    "    \"../data/\",\n",
    ")"
   ]
  }
 ],
 "metadata": {
  "kernelspec": {
   "display_name": "ds_bootcamp_venv",
   "language": "python",
   "name": "python3"
  },
  "language_info": {
   "codemirror_mode": {
    "name": "ipython",
    "version": 3
   },
   "file_extension": ".py",
   "mimetype": "text/x-python",
   "name": "python",
   "nbconvert_exporter": "python",
   "pygments_lexer": "ipython3",
   "version": "3.9.6"
  }
 },
 "nbformat": 4,
 "nbformat_minor": 2
}
