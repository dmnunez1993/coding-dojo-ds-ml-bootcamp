{
 "cells": [
  {
   "cell_type": "markdown",
   "metadata": {},
   "source": [
    "# Ejercicio 1"
   ]
  },
  {
   "cell_type": "code",
   "execution_count": 1,
   "metadata": {},
   "outputs": [
    {
     "name": "stdout",
     "output_type": "stream",
     "text": [
      "Hola, Juan Perez. Un gusto conocerte!\n",
      "Tu edad es 13\n"
     ]
    }
   ],
   "source": [
    "def ejercicio_1():\n",
    "    \"\"\"Resuelve el ejercicio 1.\"\"\"\n",
    "    nombre = input(\"Cual es tu nombre? \")\n",
    "\n",
    "    while True:\n",
    "        try:\n",
    "            edad = int(input(\"Cual es tu edad? \"))\n",
    "            break\n",
    "        except ValueError:\n",
    "            print(\n",
    "                \"Edad incorrecta! Asegúrese de que el valor ingresado sea numérico\"\n",
    "            )\n",
    "\n",
    "    print(f\"Hola, {nombre}. Un gusto conocerte!\")\n",
    "    print(f\"Tu edad es {edad}\")\n",
    "\n",
    "ejercicio_1()"
   ]
  },
  {
   "cell_type": "markdown",
   "metadata": {},
   "source": [
    "# Ejercicio 2"
   ]
  },
  {
   "cell_type": "code",
   "execution_count": 2,
   "metadata": {},
   "outputs": [
    {
     "name": "stdout",
     "output_type": "stream",
     "text": [
      "Nombre en mayúsculas: DIEGO MALDONADO\n",
      "Nombre en minúsculas: diego maldonado\n",
      "Primer nombre cambiado: Juan Maldonado\n"
     ]
    }
   ],
   "source": [
    "def ejercicio_2():\n",
    "    \"\"\"Resuelve el ejercicio 2.\"\"\"\n",
    "    nombre = \"Diego Maldonado\"\n",
    "    nombre_mayusculas = nombre.upper()\n",
    "    print(f\"Nombre en mayúsculas: {nombre_mayusculas}\")\n",
    "    nombre_minusculas = nombre.lower()\n",
    "    print(f\"Nombre en minúsculas: {nombre_minusculas}\")\n",
    "    nombre_partes = nombre.split()\n",
    "    if len(nombre_partes) > 0:\n",
    "        nombre_partes[0] = \"Juan\"\n",
    "\n",
    "    nombre_cambiado = \" \".join(nombre_partes)\n",
    "    print(f\"Primer nombre cambiado: {nombre_cambiado}\")\n",
    "\n",
    "ejercicio_2()"
   ]
  },
  {
   "cell_type": "markdown",
   "metadata": {},
   "source": [
    "# Ejercicio 3"
   ]
  },
  {
   "cell_type": "code",
   "execution_count": 3,
   "metadata": {},
   "outputs": [
    {
     "name": "stdout",
     "output_type": "stream",
     "text": [
      "Nombres:\n",
      "- Enrique Gonzalez\n",
      "- Luciano Recalde\n",
      "- Diego Pereira\n"
     ]
    }
   ],
   "source": [
    "def ejercicio_3():\n",
    "    \"\"\"Resuelve el ejercicio 3.\"\"\"\n",
    "    nombres_str = input(\"Introduzca nombres separados por coma: \")\n",
    "    nombres = nombres_str.split(\",\")\n",
    "\n",
    "    print(\"Nombres:\")\n",
    "\n",
    "    for nombre in nombres:\n",
    "        print(f\"- {nombre}\")\n",
    "\n",
    "\n",
    "ejercicio_3()"
   ]
  }
 ],
 "metadata": {
  "kernelspec": {
   "display_name": "ds_bootcamp_venv",
   "language": "python",
   "name": "python3"
  },
  "language_info": {
   "codemirror_mode": {
    "name": "ipython",
    "version": 3
   },
   "file_extension": ".py",
   "mimetype": "text/x-python",
   "name": "python",
   "nbconvert_exporter": "python",
   "pygments_lexer": "ipython3",
   "version": "3.10.6"
  }
 },
 "nbformat": 4,
 "nbformat_minor": 2
}
