{
 "cells": [
  {
   "cell_type": "code",
   "execution_count": 2,
   "metadata": {},
   "outputs": [],
   "source": [
    "import requests\n",
    "import pandas as pd\n",
    "import json\n",
    "import utils"
   ]
  },
  {
   "cell_type": "code",
   "execution_count": 3,
   "metadata": {},
   "outputs": [
    {
     "name": "stdout",
     "output_type": "stream",
     "text": [
      "<class 'list'>\n"
     ]
    },
    {
     "data": {
      "text/plain": [
       "{'id': 'bitcoin',\n",
       " 'symbol': 'btc',\n",
       " 'name': 'Bitcoin',\n",
       " 'image': 'https://coin-images.coingecko.com/coins/images/1/large/bitcoin.png?1696501400',\n",
       " 'current_price': 59687,\n",
       " 'market_cap': 1179655574657,\n",
       " 'market_cap_rank': 1,\n",
       " 'fully_diluted_valuation': 1253312131829,\n",
       " 'total_volume': 31852420216,\n",
       " 'high_24h': 61247,\n",
       " 'low_24h': 58935,\n",
       " 'price_change_24h': -1105.9406262346383,\n",
       " 'price_change_percentage_24h': -1.8192,\n",
       " 'market_cap_change_24h': -27312414590.987793,\n",
       " 'market_cap_change_percentage_24h': -2.26289,\n",
       " 'circulating_supply': 19765840.0,\n",
       " 'total_supply': 21000000.0,\n",
       " 'max_supply': 21000000.0,\n",
       " 'ath': 73738,\n",
       " 'ath_change_percentage': -19.19103,\n",
       " 'ath_date': '2024-03-14T07:10:36.635Z',\n",
       " 'atl': 67.81,\n",
       " 'atl_change_percentage': 87774.56572,\n",
       " 'atl_date': '2013-07-06T00:00:00.000Z',\n",
       " 'roi': None,\n",
       " 'last_updated': '2024-10-10T20:46:55.268Z'}"
      ]
     },
     "execution_count": 3,
     "metadata": {},
     "output_type": "execute_result"
    }
   ],
   "source": [
    "# URL de la API pública\n",
    "api_url = \"https://api.coingecko.com/api/v3/coins/markets?vs_currency=usd&ids=bitcoin\"\n",
    "response = requests.get(api_url)\n",
    "print(type(response.json()))\n",
    "response.json()[0]"
   ]
  },
  {
   "cell_type": "code",
   "execution_count": 6,
   "metadata": {},
   "outputs": [
    {
     "name": "stdout",
     "output_type": "stream",
     "text": [
      "<class 'list'>\n"
     ]
    },
    {
     "data": {
      "text/plain": [
       "[{'userId': 1,\n",
       "  'id': 1,\n",
       "  'title': 'sunt aut facere repellat provident occaecati excepturi optio reprehenderit',\n",
       "  'body': 'quia et suscipit\\nsuscipit recusandae consequuntur expedita et cum\\nreprehenderit molestiae ut ut quas totam\\nnostrum rerum est autem sunt rem eveniet architecto'},\n",
       " {'userId': 1,\n",
       "  'id': 2,\n",
       "  'title': 'qui est esse',\n",
       "  'body': 'est rerum tempore vitae\\nsequi sint nihil reprehenderit dolor beatae ea dolores neque\\nfugiat blanditiis voluptate porro vel nihil molestiae ut reiciendis\\nqui aperiam non debitis possimus qui neque nisi nulla'},\n",
       " {'userId': 1,\n",
       "  'id': 3,\n",
       "  'title': 'ea molestias quasi exercitationem repellat qui ipsa sit aut',\n",
       "  'body': 'et iusto sed quo iure\\nvoluptatem occaecati omnis eligendi aut ad\\nvoluptatem doloribus vel accusantium quis pariatur\\nmolestiae porro eius odio et labore et velit aut'},\n",
       " {'userId': 1,\n",
       "  'id': 4,\n",
       "  'title': 'eum et est occaecati',\n",
       "  'body': 'ullam et saepe reiciendis voluptatem adipisci\\nsit amet autem assumenda provident rerum culpa\\nquis hic commodi nesciunt rem tenetur doloremque ipsam iure\\nquis sunt voluptatem rerum illo velit'},\n",
       " {'userId': 1,\n",
       "  'id': 5,\n",
       "  'title': 'nesciunt quas odio',\n",
       "  'body': 'repudiandae veniam quaerat sunt sed\\nalias aut fugiat sit autem sed est\\nvoluptatem omnis possimus esse voluptatibus quis\\nest aut tenetur dolor neque'}]"
      ]
     },
     "execution_count": 6,
     "metadata": {},
     "output_type": "execute_result"
    }
   ],
   "source": [
    "api_url = \"https://jsonplaceholder.typicode.com/posts\"\n",
    "# Consumir los datos de la API\n",
    "json_data = utils.fetch_data_from_api(api_url)\n",
    "print(type(json_data)) # json_data\n",
    "json_data[0:5]"
   ]
  },
  {
   "cell_type": "markdown",
   "metadata": {},
   "source": [
    "0. Transformar a dataframe\n",
    "1. Cantidad de filas y columnas\n",
    "2. Canitdad de usuarios distintos\n",
    "3. Cantidad id's por usuario"
   ]
  },
  {
   "cell_type": "code",
   "execution_count": 46,
   "metadata": {},
   "outputs": [
    {
     "name": "stdout",
     "output_type": "stream",
     "text": [
      "Cantidad de filas: 100\n",
      "Cantidad de columnas: 4\n",
      "Cantidad de usuarios únicos: 10\n",
      "Cant. de posts por Id.\n"
     ]
    },
    {
     "data": {
      "text/plain": [
       "userId\n",
       "1     10\n",
       "2     10\n",
       "3     10\n",
       "4     10\n",
       "5     10\n",
       "6     10\n",
       "7     10\n",
       "8     10\n",
       "9     10\n",
       "10    10\n",
       "Name: id, dtype: int64"
      ]
     },
     "execution_count": 46,
     "metadata": {},
     "output_type": "execute_result"
    }
   ],
   "source": [
    "# 0\n",
    "df = pd.DataFrame(json_data)\n",
    "df.head()\n",
    "\n",
    "\n",
    "cant_filas = df.shape[0]\n",
    "cant_columnas = df.shape[1]\n",
    "\n",
    "# 1\n",
    "print(f\"Cantidad de filas: {cant_filas}\")\n",
    "print(f\"Cantidad de columnas: {cant_columnas}\")\n",
    "\n",
    "# 2\n",
    "cant_usuarios_unicos, cant_ids_unicos, cant_titulos_unicos, cant_cuerpos_unicos = df.nunique(axis=0)\n",
    "print(f\"Cantidad de usuarios únicos: {cant_usuarios_unicos}\")\n",
    "\n",
    "# 3\n",
    "print(\"Cant. de posts por Id.\")\n",
    "df.groupby(\"userId\")[\"id\"].count()"
   ]
  }
 ],
 "metadata": {
  "kernelspec": {
   "display_name": "ds_bootcamp_venv",
   "language": "python",
   "name": "python3"
  },
  "language_info": {
   "codemirror_mode": {
    "name": "ipython",
    "version": 3
   },
   "file_extension": ".py",
   "mimetype": "text/x-python",
   "name": "python",
   "nbconvert_exporter": "python",
   "pygments_lexer": "ipython3",
   "version": "3.10.6"
  }
 },
 "nbformat": 4,
 "nbformat_minor": 2
}
